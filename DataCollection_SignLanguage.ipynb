{
 "cells": [
  {
   "cell_type": "code",
   "execution_count": 1,
   "id": "3d978a50",
   "metadata": {},
   "outputs": [
    {
     "name": "stdout",
     "output_type": "stream",
     "text": [
      "Requirement already satisfied: Jupyter-Beeper in c:\\users\\jisha joseph\\appdata\\local\\programs\\python\\python38\\lib\\site-packages (1.0.3)\n",
      "Requirement already satisfied: ipython in c:\\users\\jisha joseph\\appdata\\local\\programs\\python\\python38\\lib\\site-packages (from Jupyter-Beeper) (8.7.0)\n",
      "Requirement already satisfied: numpy in c:\\users\\jisha joseph\\appdata\\local\\programs\\python\\python38\\lib\\site-packages (from Jupyter-Beeper) (1.19.2)\n",
      "Requirement already satisfied: pygments>=2.4.0 in c:\\users\\jisha joseph\\appdata\\local\\programs\\python\\python38\\lib\\site-packages (from ipython->Jupyter-Beeper) (2.13.0)\n",
      "Requirement already satisfied: stack-data in c:\\users\\jisha joseph\\appdata\\local\\programs\\python\\python38\\lib\\site-packages (from ipython->Jupyter-Beeper) (0.6.2)\n",
      "Requirement already satisfied: matplotlib-inline in c:\\users\\jisha joseph\\appdata\\local\\programs\\python\\python38\\lib\\site-packages (from ipython->Jupyter-Beeper) (0.1.6)\n",
      "Requirement already satisfied: jedi>=0.16 in c:\\users\\jisha joseph\\appdata\\local\\programs\\python\\python38\\lib\\site-packages (from ipython->Jupyter-Beeper) (0.18.2)\n",
      "Requirement already satisfied: pickleshare in c:\\users\\jisha joseph\\appdata\\local\\programs\\python\\python38\\lib\\site-packages (from ipython->Jupyter-Beeper) (0.7.5)\n",
      "Requirement already satisfied: decorator in c:\\users\\jisha joseph\\appdata\\local\\programs\\python\\python38\\lib\\site-packages (from ipython->Jupyter-Beeper) (5.1.1)\n",
      "Requirement already satisfied: prompt-toolkit<3.1.0,>=3.0.11 in c:\\users\\jisha joseph\\appdata\\local\\programs\\python\\python38\\lib\\site-packages (from ipython->Jupyter-Beeper) (3.0.33)\n",
      "Requirement already satisfied: colorama in c:\\users\\jisha joseph\\appdata\\local\\programs\\python\\python38\\lib\\site-packages (from ipython->Jupyter-Beeper) (0.4.6)\n",
      "Requirement already satisfied: backcall in c:\\users\\jisha joseph\\appdata\\local\\programs\\python\\python38\\lib\\site-packages (from ipython->Jupyter-Beeper) (0.2.0)\n",
      "Requirement already satisfied: traitlets>=5 in c:\\users\\jisha joseph\\appdata\\local\\programs\\python\\python38\\lib\\site-packages (from ipython->Jupyter-Beeper) (5.6.0)\n",
      "Requirement already satisfied: parso<0.9.0,>=0.8.0 in c:\\users\\jisha joseph\\appdata\\local\\programs\\python\\python38\\lib\\site-packages (from jedi>=0.16->ipython->Jupyter-Beeper) (0.8.3)\n",
      "Requirement already satisfied: wcwidth in c:\\users\\jisha joseph\\appdata\\local\\programs\\python\\python38\\lib\\site-packages (from prompt-toolkit<3.1.0,>=3.0.11->ipython->Jupyter-Beeper) (0.2.5)\n",
      "Requirement already satisfied: executing>=1.2.0 in c:\\users\\jisha joseph\\appdata\\local\\programs\\python\\python38\\lib\\site-packages (from stack-data->ipython->Jupyter-Beeper) (1.2.0)\n",
      "Requirement already satisfied: asttokens>=2.1.0 in c:\\users\\jisha joseph\\appdata\\local\\programs\\python\\python38\\lib\\site-packages (from stack-data->ipython->Jupyter-Beeper) (2.2.0)\n",
      "Requirement already satisfied: pure-eval in c:\\users\\jisha joseph\\appdata\\local\\programs\\python\\python38\\lib\\site-packages (from stack-data->ipython->Jupyter-Beeper) (0.2.2)\n",
      "Requirement already satisfied: six in c:\\users\\jisha joseph\\appdata\\local\\programs\\python\\python38\\lib\\site-packages (from asttokens>=2.1.0->stack-data->ipython->Jupyter-Beeper) (1.15.0)\n"
     ]
    },
    {
     "name": "stderr",
     "output_type": "stream",
     "text": [
      "WARNING: Ignoring invalid distribution -pencv-python (c:\\users\\jisha joseph\\appdata\\local\\programs\\python\\python38\\lib\\site-packages)\n",
      "WARNING: Ignoring invalid distribution -pencv-python (c:\\users\\jisha joseph\\appdata\\local\\programs\\python\\python38\\lib\\site-packages)\n",
      "WARNING: Ignoring invalid distribution -pencv-python (c:\\users\\jisha joseph\\appdata\\local\\programs\\python\\python38\\lib\\site-packages)\n",
      "WARNING: Ignoring invalid distribution -pencv-python (c:\\users\\jisha joseph\\appdata\\local\\programs\\python\\python38\\lib\\site-packages)\n",
      "WARNING: Ignoring invalid distribution -pencv-python (c:\\users\\jisha joseph\\appdata\\local\\programs\\python\\python38\\lib\\site-packages)\n",
      "WARNING: Ignoring invalid distribution -pencv-python (c:\\users\\jisha joseph\\appdata\\local\\programs\\python\\python38\\lib\\site-packages)\n",
      "\n",
      "[notice] A new release of pip available: 22.3.1 -> 23.0.1\n",
      "[notice] To update, run: python.exe -m pip install --upgrade pip\n"
     ]
    }
   ],
   "source": [
    "!pip install Jupyter-Beeper"
   ]
  },
  {
   "cell_type": "code",
   "execution_count": 2,
   "id": "c8bb0c33",
   "metadata": {},
   "outputs": [],
   "source": [
    "import cv2\n",
    "import numpy as np\n",
    "import os\n",
    "import time\n",
    "import mediapipe as mp\n",
    "import shutil\n",
    "import jupyter_beeper"
   ]
  },
  {
   "cell_type": "code",
   "execution_count": 3,
   "id": "39777af3",
   "metadata": {},
   "outputs": [],
   "source": [
    "mp_holistic = mp.solutions.holistic # Holistic model\n",
    "mp_drawing = mp.solutions.drawing_utils # Drawing utilities"
   ]
  },
  {
   "cell_type": "code",
   "execution_count": 4,
   "id": "e55e769e",
   "metadata": {},
   "outputs": [],
   "source": [
    "def mediapipe_detection(image, model):\n",
    "    image = cv2.cvtColor(image, cv2.COLOR_BGR2RGB) # COLOR CONVERSION BGR 2 RGB\n",
    "    image.flags.writeable = False                  # Image is no longer writeable\n",
    "    results = model.process(image)                 # Make prediction\n",
    "    image.flags.writeable = True                   # Image is now writeable \n",
    "    image = cv2.cvtColor(image, cv2.COLOR_RGB2BGR) # COLOR COVERSION RGB 2 BGR\n",
    "    return image, results"
   ]
  },
  {
   "cell_type": "code",
   "execution_count": 5,
   "id": "0dadc8d0",
   "metadata": {},
   "outputs": [],
   "source": [
    "def draw_styled_landmarks(image, results):\n",
    "    # Draw left hand connections\n",
    "    mp_drawing.draw_landmarks(image, results.left_hand_landmarks, mp_holistic.HAND_CONNECTIONS, \n",
    "                             mp_drawing.DrawingSpec(color=(121,22,76), thickness=2, circle_radius=4), \n",
    "                             mp_drawing.DrawingSpec(color=(121,44,250), thickness=2, circle_radius=2)\n",
    "                             ) \n",
    "    \n",
    "    # Draw right hand connections  \n",
    "    mp_drawing.draw_landmarks(image, results.right_hand_landmarks, mp_holistic.HAND_CONNECTIONS, \n",
    "                             mp_drawing.DrawingSpec(color=(245,117,66), thickness=2, circle_radius=4), \n",
    "                             mp_drawing.DrawingSpec(color=(245,66,230), thickness=2, circle_radius=2)\n",
    "                             ) "
   ]
  },
  {
   "cell_type": "code",
   "execution_count": 6,
   "id": "d7eb55bb",
   "metadata": {},
   "outputs": [],
   "source": [
    "def extract_keypoints(results):\n",
    "    lh = np.array([[res.x, res.y, res.z] for res in results.left_hand_landmarks.landmark]).flatten() if results.left_hand_landmarks else np.zeros(21*3)\n",
    "    rh = np.array([[res.x, res.y, res.z] for res in results.right_hand_landmarks.landmark]).flatten() if results.right_hand_landmarks else np.zeros(21*3)\n",
    "    return np.concatenate([lh, rh])"
   ]
  },
  {
   "cell_type": "markdown",
   "id": "56f0d96d",
   "metadata": {},
   "source": [
    "# Setting Up Folders for Data Collection"
   ]
  },
  {
   "cell_type": "code",
   "execution_count": 7,
   "id": "e8a412c7",
   "metadata": {},
   "outputs": [],
   "source": [
    "# Path for exported data, numpy arrays\n",
    "DATA_PATH = 'D:\\\\Final_Project\\\\data'\n",
    "frame_path= 'D:\\\\Final_Project\\\\frames'\n",
    "detection_path= 'D:\\\\Final_Project\\\\detected_frames'\n",
    "\n",
    "# Actions that we try to detect\n",
    "actions = np.array(['A', 'B', 'C','D', 'E', 'F','G', 'H', 'I','J', 'K', 'L','M', 'N', 'O','P', 'Q', 'R','S', 'T', 'U','V', 'W','X', 'Y', 'Z'])\n",
    "\n",
    "# Thirty videos worth of data\n",
    "no_sequences = 30\n",
    "\n",
    "# Videos are going to be 30 frames in length\n",
    "sequence_length = 30\n",
    "\n",
    "# Folder start\n",
    "start_folder = 30"
   ]
  },
  {
   "cell_type": "code",
   "execution_count": 8,
   "id": "b13a37a6",
   "metadata": {},
   "outputs": [],
   "source": [
    "for action in actions: \n",
    "    for sequence in range(start_folder,start_folder+no_sequences):\n",
    "        try: \n",
    "            os.makedirs(os.path.join(DATA_PATH, action, str(sequence)))\n",
    "            os.makedirs(os.path.join(frame_path, action, str(sequence)))\n",
    "            os.makedirs(os.path.join(detection_path, action, str(sequence)))\n",
    "        except:\n",
    "            pass"
   ]
  },
  {
   "cell_type": "code",
   "execution_count": 13,
   "id": "90ef6b29",
   "metadata": {
    "scrolled": true
   },
   "outputs": [
    {
     "ename": "KeyboardInterrupt",
     "evalue": "",
     "output_type": "error",
     "traceback": [
      "\u001b[1;31m---------------------------------------------------------------------------\u001b[0m",
      "\u001b[1;31mKeyboardInterrupt\u001b[0m                         Traceback (most recent call last)",
      "Cell \u001b[1;32mIn[13], line 59\u001b[0m\n\u001b[0;32m     56\u001b[0m cv2\u001b[38;5;241m.\u001b[39mputText(image, \u001b[38;5;124m'\u001b[39m\u001b[38;5;124mPRESS Y IF REQUIRED NOW\u001b[39m\u001b[38;5;124m'\u001b[39m, (\u001b[38;5;241m120\u001b[39m,\u001b[38;5;241m200\u001b[39m), \n\u001b[0;32m     57\u001b[0m                      cv2\u001b[38;5;241m.\u001b[39mFONT_HERSHEY_SIMPLEX, \u001b[38;5;241m1\u001b[39m, (\u001b[38;5;241m0\u001b[39m,\u001b[38;5;241m255\u001b[39m, \u001b[38;5;241m0\u001b[39m), \u001b[38;5;241m4\u001b[39m, cv2\u001b[38;5;241m.\u001b[39mLINE_AA)\n\u001b[0;32m     58\u001b[0m cv2\u001b[38;5;241m.\u001b[39mimshow(\u001b[38;5;124m'\u001b[39m\u001b[38;5;124mOpenCV Feed\u001b[39m\u001b[38;5;124m'\u001b[39m, image)\n\u001b[1;32m---> 59\u001b[0m \u001b[38;5;28;01mif\u001b[39;00m \u001b[43mcv2\u001b[49m\u001b[38;5;241;43m.\u001b[39;49m\u001b[43mwaitKey\u001b[49m\u001b[43m(\u001b[49m\u001b[38;5;241;43m30000\u001b[39;49m\u001b[43m)\u001b[49m \u001b[38;5;241m&\u001b[39m \u001b[38;5;241m0xFF\u001b[39m \u001b[38;5;241m==\u001b[39m \u001b[38;5;28mord\u001b[39m(\u001b[38;5;124m'\u001b[39m\u001b[38;5;124my\u001b[39m\u001b[38;5;124m'\u001b[39m):\n\u001b[0;32m     60\u001b[0m     sequence\u001b[38;5;241m=\u001b[39msequence\u001b[38;5;241m+\u001b[39m\u001b[38;5;241m1\u001b[39m\n\u001b[0;32m     61\u001b[0m     cv2\u001b[38;5;241m.\u001b[39mwaitKey(\u001b[38;5;241m3000\u001b[39m)\n",
      "\u001b[1;31mKeyboardInterrupt\u001b[0m: "
     ]
    }
   ],
   "source": [
    "cap = cv2.VideoCapture(1)\n",
    "# Set mediapipe model \n",
    "with mp_holistic.Holistic(min_detection_confidence=0.5, min_tracking_confidence=0.5) as holistic:\n",
    "    \n",
    "    # NEW LOOP\n",
    "    action=actions[12] #m\n",
    "    # Loop through actions\n",
    "    sequence=start_folder\n",
    "    while(sequence < start_folder+no_sequences):\n",
    "        # Loop through video length aka sequence length\n",
    "        for frame_num in range(sequence_length):\n",
    "            \n",
    "            fr_path = os.path.join(frame_path, action, str(sequence), str(frame_num)+\".jpg\")\n",
    "            dfr_path = os.path.join(detection_path, action, str(sequence), str(frame_num)+\".jpg\")\n",
    "            \n",
    "                # Read feed\n",
    "            ret, frame = cap.read()\n",
    "            \n",
    "\n",
    "                # Make detections\n",
    "            image, results = mediapipe_detection(frame, holistic)\n",
    "\n",
    "                # Draw landmarks\n",
    "            draw_styled_landmarks(image, results)\n",
    "                \n",
    "                # NEW Apply wait logic\n",
    "            if frame_num == 0: \n",
    "                cv2.putText(image, 'STARTING COLLECTION', (120,200), \n",
    "                           cv2.FONT_HERSHEY_SIMPLEX, 1, (0,255, 0), 4, cv2.LINE_AA)\n",
    "                cv2.putText(image, 'Collecting frames for {} Video Number {}'.format(action, sequence), (15,12), \n",
    "                           cv2.FONT_HERSHEY_SIMPLEX, 0.5, (0, 0, 255), 1, cv2.LINE_AA)\n",
    "                    # Show to screen\n",
    "                cv2.imshow('OpenCV Feed', image)\n",
    "            else: \n",
    "                cv2.putText(image, 'Collecting frames for {} Video Number {}'.format(action, sequence), (15,12), \n",
    "                           cv2.FONT_HERSHEY_SIMPLEX, 0.5, (0, 0, 255), 1, cv2.LINE_AA)\n",
    "                    # Show to screen\n",
    "                cv2.imshow('OpenCV Feed', image)\n",
    "                \n",
    "               \n",
    "            cv2.imwrite(dfr_path, image)\n",
    "            cv2.imwrite(fr_path, frame)\n",
    "                # NEW Export keypoints\n",
    "            keypoints = extract_keypoints(results)\n",
    "            npy_path = os.path.join(DATA_PATH, action, str(sequence), str(frame_num))\n",
    "            np.save(npy_path, keypoints)\n",
    "\n",
    "                # Break gracefully\n",
    "            if cv2.waitKey(10) & 0xFF == ord('q'):\n",
    "                #cv2.putText(image, 'CURRENT SEQUENCE DISCARD', (120,200), \n",
    "                 #            cv2.FONT_HERSHEY_SIMPLEX, 1, (0,255, 0), 4, cv2.LINE_AA)\n",
    "                print('quit')\n",
    "                cv2.waitKey(2000)\n",
    "                break\n",
    "        \n",
    "        cv2.putText(image, 'PRESS Y IF REQUIRED NOW', (120,200), \n",
    "                             cv2.FONT_HERSHEY_SIMPLEX, 1, (0,255, 0), 4, cv2.LINE_AA)\n",
    "        cv2.imshow('OpenCV Feed', image)\n",
    "        if cv2.waitKey(30000) & 0xFF == ord('y'):\n",
    "            sequence=sequence+1\n",
    "            cv2.waitKey(3000)\n",
    "            b = jupyter_beeper.Beeper()\n",
    "            # Default config is frequency=440 Hz, secs=0.7 seconds, and\n",
    "            # blocking=False (b.beep() will return when the sound begins)\n",
    "            b.beep(frequency=530, secs=0.2, blocking=True)\n",
    "            cv2.waitKey(1000)\n",
    "            \n",
    "        else:\n",
    "            cv2.putText(image, 'CURRENT SEQUENCE DISCARD', (120,200), \n",
    "                           cv2.FONT_HERSHEY_SIMPLEX, 1, (0,255, 0), 4, cv2.LINE_AA)\n",
    "            shutil.rmtree(os.path.join(frame_path,action,str(sequence)))\n",
    "            shutil.rmtree(os.path.join(detection_path,action,str(sequence)))\n",
    "            shutil.rmtree(os.path.join(DATA_PATH,action,str(sequence)))\n",
    "            os.makedirs(os.path.join(DATA_PATH, action, str(sequence)))\n",
    "            os.makedirs(os.path.join(frame_path, action, str(sequence)))\n",
    "            os.makedirs(os.path.join(detection_path, action, str(sequence)))\n",
    "            cv2.waitKey(5000)\n",
    "                \n",
    "    cap.release()\n",
    "    cv2.destroyAllWindows()"
   ]
  },
  {
   "cell_type": "code",
   "execution_count": null,
   "id": "e3b74fc0",
   "metadata": {},
   "outputs": [],
   "source": []
  },
  {
   "cell_type": "code",
   "execution_count": null,
   "id": "1aa6207d",
   "metadata": {},
   "outputs": [],
   "source": []
  }
 ],
 "metadata": {
  "kernelspec": {
   "display_name": "Python 3 (ipykernel)",
   "language": "python",
   "name": "python3"
  },
  "language_info": {
   "codemirror_mode": {
    "name": "ipython",
    "version": 3
   },
   "file_extension": ".py",
   "mimetype": "text/x-python",
   "name": "python",
   "nbconvert_exporter": "python",
   "pygments_lexer": "ipython3",
   "version": "3.8.5"
  }
 },
 "nbformat": 4,
 "nbformat_minor": 5
}
