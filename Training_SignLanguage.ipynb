{
 "cells": [
  {
   "cell_type": "code",
   "execution_count": 1,
   "id": "3b4a97d4",
   "metadata": {
    "scrolled": true
   },
   "outputs": [
    {
     "name": "stdout",
     "output_type": "stream",
     "text": [
      "Requirement already satisfied: scikit-learn in c:\\users\\jisha joseph\\appdata\\local\\programs\\python\\python38\\lib\\site-packages (1.2.0)\n",
      "Collecting scikit-learn\n",
      "  Downloading scikit_learn-1.2.2-cp38-cp38-win_amd64.whl (8.3 MB)\n",
      "     ---------------------------------------- 8.3/8.3 MB 2.0 MB/s eta 0:00:00\n",
      "Requirement already satisfied: joblib>=1.1.1 in c:\\users\\jisha joseph\\appdata\\local\\programs\\python\\python38\\lib\\site-packages (from scikit-learn) (1.2.0)\n",
      "Requirement already satisfied: threadpoolctl>=2.0.0 in c:\\users\\jisha joseph\\appdata\\local\\programs\\python\\python38\\lib\\site-packages (from scikit-learn) (3.1.0)\n",
      "Requirement already satisfied: scipy>=1.3.2 in c:\\users\\jisha joseph\\appdata\\local\\programs\\python\\python38\\lib\\site-packages (from scikit-learn) (1.9.3)\n",
      "Requirement already satisfied: numpy>=1.17.3 in c:\\users\\jisha joseph\\appdata\\local\\programs\\python\\python38\\lib\\site-packages (from scikit-learn) (1.19.2)\n",
      "Installing collected packages: scikit-learn\n",
      "  Attempting uninstall: scikit-learn\n",
      "    Found existing installation: scikit-learn 1.2.0\n",
      "    Uninstalling scikit-learn-1.2.0:\n",
      "      Successfully uninstalled scikit-learn-1.2.0\n",
      "Successfully installed scikit-learn-1.2.2\n"
     ]
    },
    {
     "name": "stderr",
     "output_type": "stream",
     "text": [
      "WARNING: Ignoring invalid distribution -pencv-python (c:\\users\\jisha joseph\\appdata\\local\\programs\\python\\python38\\lib\\site-packages)\n",
      "WARNING: Ignoring invalid distribution -pencv-python (c:\\users\\jisha joseph\\appdata\\local\\programs\\python\\python38\\lib\\site-packages)\n",
      "WARNING: Ignoring invalid distribution -pencv-python (c:\\users\\jisha joseph\\appdata\\local\\programs\\python\\python38\\lib\\site-packages)\n",
      "    WARNING: Ignoring invalid distribution -pencv-python (c:\\users\\jisha joseph\\appdata\\local\\programs\\python\\python38\\lib\\site-packages)\n",
      "WARNING: Ignoring invalid distribution -pencv-python (c:\\users\\jisha joseph\\appdata\\local\\programs\\python\\python38\\lib\\site-packages)\n",
      "WARNING: Ignoring invalid distribution -pencv-python (c:\\users\\jisha joseph\\appdata\\local\\programs\\python\\python38\\lib\\site-packages)\n",
      "WARNING: Ignoring invalid distribution -pencv-python (c:\\users\\jisha joseph\\appdata\\local\\programs\\python\\python38\\lib\\site-packages)\n",
      "WARNING: Ignoring invalid distribution -pencv-python (c:\\users\\jisha joseph\\appdata\\local\\programs\\python\\python38\\lib\\site-packages)\n",
      "\n",
      "[notice] A new release of pip available: 22.3.1 -> 23.1\n",
      "[notice] To update, run: python.exe -m pip install --upgrade pip\n"
     ]
    }
   ],
   "source": [
    "!python -m pip install -U scikit-learn"
   ]
  },
  {
   "cell_type": "code",
   "execution_count": 2,
   "id": "42bcbebc",
   "metadata": {},
   "outputs": [
    {
     "name": "stdout",
     "output_type": "stream",
     "text": [
      "Requirement already satisfied: tensorflow in c:\\users\\jisha joseph\\appdata\\local\\programs\\python\\python38\\lib\\site-packages (2.4.1)"
     ]
    },
    {
     "name": "stderr",
     "output_type": "stream",
     "text": [
      "WARNING: Ignoring invalid distribution -pencv-python (c:\\users\\jisha joseph\\appdata\\local\\programs\\python\\python38\\lib\\site-packages)\n",
      "WARNING: Ignoring invalid distribution -pencv-python (c:\\users\\jisha joseph\\appdata\\local\\programs\\python\\python38\\lib\\site-packages)\n",
      "WARNING: Ignoring invalid distribution -pencv-python (c:\\users\\jisha joseph\\appdata\\local\\programs\\python\\python38\\lib\\site-packages)\n",
      "WARNING: Ignoring invalid distribution -pencv-python (c:\\users\\jisha joseph\\appdata\\local\\programs\\python\\python38\\lib\\site-packages)\n",
      "WARNING: Ignoring invalid distribution -pencv-python (c:\\users\\jisha joseph\\appdata\\local\\programs\\python\\python38\\lib\\site-packages)\n",
      "WARNING: Ignoring invalid distribution -pencv-python (c:\\users\\jisha joseph\\appdata\\local\\programs\\python\\python38\\lib\\site-packages)\n",
      "\n",
      "[notice] A new release of pip available: 22.3.1 -> 23.1\n",
      "[notice] To update, run: python.exe -m pip install --upgrade pip\n"
     ]
    },
    {
     "name": "stdout",
     "output_type": "stream",
     "text": [
      "\n",
      "Requirement already satisfied: protobuf>=3.9.2 in c:\\users\\jisha joseph\\appdata\\local\\programs\\python\\python38\\lib\\site-packages (from tensorflow) (3.20.3)\n",
      "Requirement already satisfied: absl-py~=0.10 in c:\\users\\jisha joseph\\appdata\\local\\programs\\python\\python38\\lib\\site-packages (from tensorflow) (0.15.0)\n",
      "Requirement already satisfied: opt-einsum~=3.3.0 in c:\\users\\jisha joseph\\appdata\\local\\programs\\python\\python38\\lib\\site-packages (from tensorflow) (3.3.0)\n",
      "Requirement already satisfied: six~=1.15.0 in c:\\users\\jisha joseph\\appdata\\local\\programs\\python\\python38\\lib\\site-packages (from tensorflow) (1.15.0)\n",
      "Requirement already satisfied: typing-extensions~=3.7.4 in c:\\users\\jisha joseph\\appdata\\local\\programs\\python\\python38\\lib\\site-packages (from tensorflow) (3.7.4.3)\n",
      "Requirement already satisfied: gast==0.3.3 in c:\\users\\jisha joseph\\appdata\\local\\programs\\python\\python38\\lib\\site-packages (from tensorflow) (0.3.3)\n",
      "Requirement already satisfied: tensorflow-estimator<2.5.0,>=2.4.0 in c:\\users\\jisha joseph\\appdata\\local\\programs\\python\\python38\\lib\\site-packages (from tensorflow) (2.4.0)\n",
      "Requirement already satisfied: wrapt~=1.12.1 in c:\\users\\jisha joseph\\appdata\\local\\programs\\python\\python38\\lib\\site-packages (from tensorflow) (1.12.1)\n",
      "Requirement already satisfied: tensorboard~=2.4 in c:\\users\\jisha joseph\\appdata\\local\\programs\\python\\python38\\lib\\site-packages (from tensorflow) (2.11.0)\n",
      "Requirement already satisfied: astunparse~=1.6.3 in c:\\users\\jisha joseph\\appdata\\local\\programs\\python\\python38\\lib\\site-packages (from tensorflow) (1.6.3)\n",
      "Requirement already satisfied: h5py~=2.10.0 in c:\\users\\jisha joseph\\appdata\\local\\programs\\python\\python38\\lib\\site-packages (from tensorflow) (2.10.0)\n",
      "Requirement already satisfied: keras-preprocessing~=1.1.2 in c:\\users\\jisha joseph\\appdata\\local\\programs\\python\\python38\\lib\\site-packages (from tensorflow) (1.1.2)\n",
      "Requirement already satisfied: grpcio~=1.32.0 in c:\\users\\jisha joseph\\appdata\\local\\programs\\python\\python38\\lib\\site-packages (from tensorflow) (1.32.0)\n",
      "Requirement already satisfied: wheel~=0.35 in c:\\users\\jisha joseph\\appdata\\local\\programs\\python\\python38\\lib\\site-packages (from tensorflow) (0.38.4)\n",
      "Requirement already satisfied: numpy~=1.19.2 in c:\\users\\jisha joseph\\appdata\\local\\programs\\python\\python38\\lib\\site-packages (from tensorflow) (1.19.2)\n",
      "Requirement already satisfied: google-pasta~=0.2 in c:\\users\\jisha joseph\\appdata\\local\\programs\\python\\python38\\lib\\site-packages (from tensorflow) (0.2.0)\n",
      "Requirement already satisfied: termcolor~=1.1.0 in c:\\users\\jisha joseph\\appdata\\local\\programs\\python\\python38\\lib\\site-packages (from tensorflow) (1.1.0)\n",
      "Requirement already satisfied: flatbuffers~=1.12.0 in c:\\users\\jisha joseph\\appdata\\local\\programs\\python\\python38\\lib\\site-packages (from tensorflow) (1.12)\n",
      "Requirement already satisfied: werkzeug>=1.0.1 in c:\\users\\jisha joseph\\appdata\\local\\programs\\python\\python38\\lib\\site-packages (from tensorboard~=2.4->tensorflow) (2.2.2)\n",
      "Requirement already satisfied: setuptools>=41.0.0 in c:\\users\\jisha joseph\\appdata\\local\\programs\\python\\python38\\lib\\site-packages (from tensorboard~=2.4->tensorflow) (47.1.0)\n",
      "Requirement already satisfied: requests<3,>=2.21.0 in c:\\users\\jisha joseph\\appdata\\local\\programs\\python\\python38\\lib\\site-packages (from tensorboard~=2.4->tensorflow) (2.24.0)\n",
      "Requirement already satisfied: google-auth-oauthlib<0.5,>=0.4.1 in c:\\users\\jisha joseph\\appdata\\local\\programs\\python\\python38\\lib\\site-packages (from tensorboard~=2.4->tensorflow) (0.4.6)\n",
      "Requirement already satisfied: tensorboard-plugin-wit>=1.6.0 in c:\\users\\jisha joseph\\appdata\\local\\programs\\python\\python38\\lib\\site-packages (from tensorboard~=2.4->tensorflow) (1.8.1)\n",
      "Requirement already satisfied: google-auth<3,>=1.6.3 in c:\\users\\jisha joseph\\appdata\\local\\programs\\python\\python38\\lib\\site-packages (from tensorboard~=2.4->tensorflow) (2.14.1)\n",
      "Requirement already satisfied: markdown>=2.6.8 in c:\\users\\jisha joseph\\appdata\\local\\programs\\python\\python38\\lib\\site-packages (from tensorboard~=2.4->tensorflow) (3.4.1)\n",
      "Requirement already satisfied: tensorboard-data-server<0.7.0,>=0.6.0 in c:\\users\\jisha joseph\\appdata\\local\\programs\\python\\python38\\lib\\site-packages (from tensorboard~=2.4->tensorflow) (0.6.1)\n",
      "Requirement already satisfied: pyasn1-modules>=0.2.1 in c:\\users\\jisha joseph\\appdata\\local\\programs\\python\\python38\\lib\\site-packages (from google-auth<3,>=1.6.3->tensorboard~=2.4->tensorflow) (0.2.8)\n",
      "Requirement already satisfied: rsa<5,>=3.1.4 in c:\\users\\jisha joseph\\appdata\\local\\programs\\python\\python38\\lib\\site-packages (from google-auth<3,>=1.6.3->tensorboard~=2.4->tensorflow) (4.9)\n",
      "Requirement already satisfied: cachetools<6.0,>=2.0.0 in c:\\users\\jisha joseph\\appdata\\local\\programs\\python\\python38\\lib\\site-packages (from google-auth<3,>=1.6.3->tensorboard~=2.4->tensorflow) (5.2.0)\n",
      "Requirement already satisfied: requests-oauthlib>=0.7.0 in c:\\users\\jisha joseph\\appdata\\local\\programs\\python\\python38\\lib\\site-packages (from google-auth-oauthlib<0.5,>=0.4.1->tensorboard~=2.4->tensorflow) (1.3.1)\n",
      "Requirement already satisfied: importlib-metadata>=4.4 in c:\\users\\jisha joseph\\appdata\\local\\programs\\python\\python38\\lib\\site-packages (from markdown>=2.6.8->tensorboard~=2.4->tensorflow) (5.1.0)\n",
      "Requirement already satisfied: chardet<4,>=3.0.2 in c:\\users\\jisha joseph\\appdata\\local\\programs\\python\\python38\\lib\\site-packages (from requests<3,>=2.21.0->tensorboard~=2.4->tensorflow) (3.0.4)\n",
      "Requirement already satisfied: urllib3!=1.25.0,!=1.25.1,<1.26,>=1.21.1 in c:\\users\\jisha joseph\\appdata\\local\\programs\\python\\python38\\lib\\site-packages (from requests<3,>=2.21.0->tensorboard~=2.4->tensorflow) (1.25.10)\n",
      "Requirement already satisfied: certifi>=2017.4.17 in c:\\users\\jisha joseph\\appdata\\local\\programs\\python\\python38\\lib\\site-packages (from requests<3,>=2.21.0->tensorboard~=2.4->tensorflow) (2020.6.20)\n",
      "Requirement already satisfied: idna<3,>=2.5 in c:\\users\\jisha joseph\\appdata\\local\\programs\\python\\python38\\lib\\site-packages (from requests<3,>=2.21.0->tensorboard~=2.4->tensorflow) (2.10)\n",
      "Requirement already satisfied: MarkupSafe>=2.1.1 in c:\\users\\jisha joseph\\appdata\\local\\programs\\python\\python38\\lib\\site-packages (from werkzeug>=1.0.1->tensorboard~=2.4->tensorflow) (2.1.1)\n",
      "Requirement already satisfied: zipp>=0.5 in c:\\users\\jisha joseph\\appdata\\local\\programs\\python\\python38\\lib\\site-packages (from importlib-metadata>=4.4->markdown>=2.6.8->tensorboard~=2.4->tensorflow) (3.11.0)\n",
      "Requirement already satisfied: pyasn1<0.5.0,>=0.4.6 in c:\\users\\jisha joseph\\appdata\\local\\programs\\python\\python38\\lib\\site-packages (from pyasn1-modules>=0.2.1->google-auth<3,>=1.6.3->tensorboard~=2.4->tensorflow) (0.4.8)\n",
      "Requirement already satisfied: oauthlib>=3.0.0 in c:\\users\\jisha joseph\\appdata\\local\\programs\\python\\python38\\lib\\site-packages (from requests-oauthlib>=0.7.0->google-auth-oauthlib<0.5,>=0.4.1->tensorboard~=2.4->tensorflow) (3.2.2)\n"
     ]
    }
   ],
   "source": [
    "!python -m pip install tensorflow"
   ]
  },
  {
   "cell_type": "code",
   "execution_count": 3,
   "id": "7f7f3df7",
   "metadata": {},
   "outputs": [
    {
     "name": "stdout",
     "output_type": "stream",
     "text": [
      "Collecting seaborn\n",
      "  Downloading seaborn-0.12.2-py3-none-any.whl (293 kB)\n",
      "     -------------------------------------- 293.3/293.3 kB 2.0 MB/s eta 0:00:00\n",
      "Requirement already satisfied: pandas>=0.25 in c:\\users\\jisha joseph\\appdata\\local\\programs\\python\\python38\\lib\\site-packages (from seaborn) (1.1.2)\n",
      "Requirement already satisfied: numpy!=1.24.0,>=1.17 in c:\\users\\jisha joseph\\appdata\\local\\programs\\python\\python38\\lib\\site-packages (from seaborn) (1.19.2)\n",
      "Requirement already satisfied: matplotlib!=3.6.1,>=3.1 in c:\\users\\jisha joseph\\appdata\\local\\programs\\python\\python38\\lib\\site-packages (from seaborn) (3.6.2)\n",
      "Requirement already satisfied: packaging>=20.0 in c:\\users\\jisha joseph\\appdata\\local\\programs\\python\\python38\\lib\\site-packages (from matplotlib!=3.6.1,>=3.1->seaborn) (21.3)\n",
      "Requirement already satisfied: pyparsing>=2.2.1 in c:\\users\\jisha joseph\\appdata\\local\\programs\\python\\python38\\lib\\site-packages (from matplotlib!=3.6.1,>=3.1->seaborn) (3.0.9)\n",
      "Requirement already satisfied: pillow>=6.2.0 in c:\\users\\jisha joseph\\appdata\\local\\programs\\python\\python38\\lib\\site-packages (from matplotlib!=3.6.1,>=3.1->seaborn) (8.0.1)\n",
      "Requirement already satisfied: cycler>=0.10 in c:\\users\\jisha joseph\\appdata\\local\\programs\\python\\python38\\lib\\site-packages (from matplotlib!=3.6.1,>=3.1->seaborn) (0.11.0)\n",
      "Requirement already satisfied: contourpy>=1.0.1 in c:\\users\\jisha joseph\\appdata\\local\\programs\\python\\python38\\lib\\site-packages (from matplotlib!=3.6.1,>=3.1->seaborn) (1.0.6)\n",
      "Requirement already satisfied: python-dateutil>=2.7 in c:\\users\\jisha joseph\\appdata\\local\\programs\\python\\python38\\lib\\site-packages (from matplotlib!=3.6.1,>=3.1->seaborn) (2.8.2)\n",
      "Requirement already satisfied: kiwisolver>=1.0.1 in c:\\users\\jisha joseph\\appdata\\local\\programs\\python\\python38\\lib\\site-packages (from matplotlib!=3.6.1,>=3.1->seaborn) (1.4.4)\n",
      "Requirement already satisfied: fonttools>=4.22.0 in c:\\users\\jisha joseph\\appdata\\local\\programs\\python\\python38\\lib\\site-packages (from matplotlib!=3.6.1,>=3.1->seaborn) (4.38.0)\n",
      "Requirement already satisfied: pytz>=2017.2 in c:\\users\\jisha joseph\\appdata\\local\\programs\\python\\python38\\lib\\site-packages (from pandas>=0.25->seaborn) (2020.1)\n",
      "Requirement already satisfied: six>=1.5 in c:\\users\\jisha joseph\\appdata\\local\\programs\\python\\python38\\lib\\site-packages (from python-dateutil>=2.7->matplotlib!=3.6.1,>=3.1->seaborn) (1.15.0)\n",
      "Installing collected packages: seaborn\n",
      "Successfully installed seaborn-0.12.2\n"
     ]
    },
    {
     "name": "stderr",
     "output_type": "stream",
     "text": [
      "WARNING: Ignoring invalid distribution -pencv-python (c:\\users\\jisha joseph\\appdata\\local\\programs\\python\\python38\\lib\\site-packages)\n",
      "WARNING: Ignoring invalid distribution -pencv-python (c:\\users\\jisha joseph\\appdata\\local\\programs\\python\\python38\\lib\\site-packages)\n",
      "WARNING: Ignoring invalid distribution -pencv-python (c:\\users\\jisha joseph\\appdata\\local\\programs\\python\\python38\\lib\\site-packages)\n",
      "WARNING: Ignoring invalid distribution -pencv-python (c:\\users\\jisha joseph\\appdata\\local\\programs\\python\\python38\\lib\\site-packages)\n",
      "WARNING: Ignoring invalid distribution -pencv-python (c:\\users\\jisha joseph\\appdata\\local\\programs\\python\\python38\\lib\\site-packages)\n",
      "WARNING: Ignoring invalid distribution -pencv-python (c:\\users\\jisha joseph\\appdata\\local\\programs\\python\\python38\\lib\\site-packages)\n",
      "WARNING: Ignoring invalid distribution -pencv-python (c:\\users\\jisha joseph\\appdata\\local\\programs\\python\\python38\\lib\\site-packages)\n",
      "\n",
      "[notice] A new release of pip available: 22.3.1 -> 23.1\n",
      "[notice] To update, run: python.exe -m pip install --upgrade pip\n"
     ]
    }
   ],
   "source": [
    "!pip install seaborn"
   ]
  },
  {
   "cell_type": "code",
   "execution_count": 4,
   "id": "cd3fdf88",
   "metadata": {},
   "outputs": [],
   "source": [
    "from sklearn.model_selection import train_test_split\n",
    "from tensorflow.keras.utils import to_categorical\n",
    "import numpy as np\n",
    "import os\n",
    "from matplotlib import pyplot as plt\n",
    "import cv2\n",
    "import mediapipe as mp"
   ]
  },
  {
   "cell_type": "code",
   "execution_count": 5,
   "id": "ea1877f4",
   "metadata": {},
   "outputs": [],
   "source": [
    "mp_holistic = mp.solutions.holistic # Holistic model\n",
    "mp_drawing = mp.solutions.drawing_utils # Drawing utilities"
   ]
  },
  {
   "cell_type": "code",
   "execution_count": 6,
   "id": "6f6fedcf",
   "metadata": {},
   "outputs": [],
   "source": [
    "def mediapipe_detection(image, model):\n",
    "    image = cv2.cvtColor(image, cv2.COLOR_BGR2RGB) # COLOR CONVERSION BGR 2 RGB\n",
    "    image.flags.writeable = False                  # Image is no longer writeable\n",
    "    results = model.process(image)                 # Make prediction\n",
    "    image.flags.writeable = True                   # Image is now writeable \n",
    "    image = cv2.cvtColor(image, cv2.COLOR_RGB2BGR) # COLOR COVERSION RGB 2 BGR\n",
    "    return image, results"
   ]
  },
  {
   "cell_type": "code",
   "execution_count": 7,
   "id": "bac8550c",
   "metadata": {},
   "outputs": [],
   "source": [
    "def draw_styled_landmarks(image, results):\n",
    "\n",
    "    # Draw left hand connections\n",
    "    mp_drawing.draw_landmarks(image, results.left_hand_landmarks, mp_holistic.HAND_CONNECTIONS, \n",
    "                             mp_drawing.DrawingSpec(color=(121,22,76), thickness=2, circle_radius=4), \n",
    "                             mp_drawing.DrawingSpec(color=(121,44,250), thickness=2, circle_radius=2)\n",
    "                             ) \n",
    "    \n",
    "    # Draw right hand connections  \n",
    "    mp_drawing.draw_landmarks(image, results.right_hand_landmarks, mp_holistic.HAND_CONNECTIONS, \n",
    "                             mp_drawing.DrawingSpec(color=(245,117,66), thickness=2, circle_radius=4), \n",
    "                             mp_drawing.DrawingSpec(color=(245,66,230), thickness=2, circle_radius=2)\n",
    "                             ) "
   ]
  },
  {
   "cell_type": "code",
   "execution_count": 8,
   "id": "83f17e7a",
   "metadata": {},
   "outputs": [],
   "source": [
    "def extract_keypoints(results):\n",
    "    lh = np.array([[res.x, res.y, res.z] for res in results.left_hand_landmarks.landmark]).flatten() if results.left_hand_landmarks else np.zeros(21*3)\n",
    "    rh = np.array([[res.x, res.y, res.z] for res in results.right_hand_landmarks.landmark]).flatten() if results.right_hand_landmarks else np.zeros(21*3)\n",
    "    return np.concatenate([lh, rh])"
   ]
  },
  {
   "cell_type": "code",
   "execution_count": 17,
   "id": "95f5d346",
   "metadata": {},
   "outputs": [],
   "source": [
    "# Path for exported data, numpy arrays\n",
    "DATA_PATH = 'F:\\\\MAIN PROJECT DATASET\\\\data'\n",
    "\n",
    "# Actions that we try to detect\n",
    "actions = np.array(['A','B','C','D','E','F','G','H','I','J','K','L','M','N','O','P','Q','S','T','U','V','W','X','Y','Z'])\n"
   ]
  },
  {
   "cell_type": "code",
   "execution_count": 18,
   "id": "62943f62",
   "metadata": {},
   "outputs": [],
   "source": [
    "\n",
    "# Thirty videos worth of data\n",
    "no_sequences = 120\n",
    "\n",
    "# Videos are going to be 30 frames in length\n",
    "sequence_length = 30\n",
    "\n",
    "# Folder start\n",
    "start_folder = 0"
   ]
  },
  {
   "cell_type": "code",
   "execution_count": 19,
   "id": "9e255d7e",
   "metadata": {},
   "outputs": [],
   "source": [
    "label_map = {label:num for num, label in enumerate(actions)}"
   ]
  },
  {
   "cell_type": "code",
   "execution_count": 20,
   "id": "96bcf04a",
   "metadata": {},
   "outputs": [
    {
     "name": "stdout",
     "output_type": "stream",
     "text": [
      "completed:A\n",
      "\n",
      "completed:B\n",
      "\n",
      "completed:C\n",
      "\n",
      "completed:D\n",
      "\n",
      "completed:E\n",
      "\n",
      "completed:F\n",
      "\n",
      "completed:G\n",
      "\n",
      "completed:H\n",
      "\n",
      "completed:I\n",
      "\n",
      "completed:J\n",
      "\n",
      "completed:K\n",
      "\n",
      "completed:L\n",
      "\n",
      "completed:M\n",
      "\n",
      "completed:N\n",
      "\n",
      "completed:O\n",
      "\n",
      "completed:P\n",
      "\n",
      "completed:Q\n",
      "\n",
      "completed:S\n",
      "\n",
      "completed:T\n",
      "\n",
      "completed:U\n",
      "\n",
      "completed:V\n",
      "\n",
      "completed:W\n",
      "\n",
      "completed:X\n",
      "\n",
      "completed:Y\n",
      "\n",
      "completed:Z\n",
      "\n"
     ]
    }
   ],
   "source": [
    "sequences, labels = [], []\n",
    "for action in actions: \n",
    "    for sequence in range(start_folder,start_folder+no_sequences):\n",
    "        window = []\n",
    "        for frame_num in range(sequence_length):\n",
    "            res = np.load(os.path.join(DATA_PATH, action, str(sequence), \"{}.npy\".format(frame_num)))\n",
    "            window.append(res)\n",
    "        sequences.append(window)\n",
    "        labels.append(label_map[action])\n",
    "    print(\"completed:\"+action+\"\\n\")"
   ]
  },
  {
   "cell_type": "code",
   "execution_count": 21,
   "id": "af274cb6",
   "metadata": {},
   "outputs": [
    {
     "data": {
      "text/plain": [
       "(3000, 30, 126)"
      ]
     },
     "execution_count": 21,
     "metadata": {},
     "output_type": "execute_result"
    }
   ],
   "source": [
    "np.array(sequences).shape"
   ]
  },
  {
   "cell_type": "code",
   "execution_count": 22,
   "id": "57e2b51b",
   "metadata": {},
   "outputs": [],
   "source": [
    "X = np.array(sequences)"
   ]
  },
  {
   "cell_type": "code",
   "execution_count": 23,
   "id": "46401364",
   "metadata": {},
   "outputs": [],
   "source": [
    "y = to_categorical(labels).astype(int)"
   ]
  },
  {
   "cell_type": "code",
   "execution_count": 24,
   "id": "8af47330",
   "metadata": {},
   "outputs": [],
   "source": [
    "X_train, X_test, y_train, y_test = train_test_split(X, y, test_size=0.1,stratify=y)"
   ]
  },
  {
   "cell_type": "markdown",
   "id": "7b6edd93",
   "metadata": {},
   "source": [
    "# Building and Training LSTM Neural Network"
   ]
  },
  {
   "cell_type": "markdown",
   "id": "380d86e9",
   "metadata": {},
   "source": [
    "## Load the model if already saved"
   ]
  },
  {
   "cell_type": "code",
   "execution_count": 25,
   "id": "619c7640",
   "metadata": {},
   "outputs": [
    {
     "ename": "OSError",
     "evalue": "SavedModel file does not exist at: action.h5/{saved_model.pbtxt|saved_model.pb}",
     "output_type": "error",
     "traceback": [
      "\u001b[1;31m---------------------------------------------------------------------------\u001b[0m",
      "\u001b[1;31mOSError\u001b[0m                                   Traceback (most recent call last)",
      "Cell \u001b[1;32mIn[25], line 2\u001b[0m\n\u001b[0;32m      1\u001b[0m \u001b[38;5;28;01mfrom\u001b[39;00m \u001b[38;5;21;01mtensorflow\u001b[39;00m \u001b[38;5;28;01mimport\u001b[39;00m keras\n\u001b[1;32m----> 2\u001b[0m model \u001b[38;5;241m=\u001b[39m \u001b[43mkeras\u001b[49m\u001b[38;5;241;43m.\u001b[39;49m\u001b[43mmodels\u001b[49m\u001b[38;5;241;43m.\u001b[39;49m\u001b[43mload_model\u001b[49m\u001b[43m(\u001b[49m\u001b[38;5;124;43m'\u001b[39;49m\u001b[38;5;124;43maction.h5\u001b[39;49m\u001b[38;5;124;43m'\u001b[39;49m\u001b[43m)\u001b[49m\n",
      "File \u001b[1;32mc:\\users\\jisha joseph\\appdata\\local\\programs\\python\\python38\\lib\\site-packages\\tensorflow\\python\\keras\\saving\\save.py:211\u001b[0m, in \u001b[0;36mload_model\u001b[1;34m(filepath, custom_objects, compile, options)\u001b[0m\n\u001b[0;32m    209\u001b[0m     filepath \u001b[38;5;241m=\u001b[39m path_to_string(filepath)\n\u001b[0;32m    210\u001b[0m     \u001b[38;5;28;01mif\u001b[39;00m \u001b[38;5;28misinstance\u001b[39m(filepath, six\u001b[38;5;241m.\u001b[39mstring_types):\n\u001b[1;32m--> 211\u001b[0m       \u001b[43mloader_impl\u001b[49m\u001b[38;5;241;43m.\u001b[39;49m\u001b[43mparse_saved_model\u001b[49m\u001b[43m(\u001b[49m\u001b[43mfilepath\u001b[49m\u001b[43m)\u001b[49m\n\u001b[0;32m    212\u001b[0m       \u001b[38;5;28;01mreturn\u001b[39;00m saved_model_load\u001b[38;5;241m.\u001b[39mload(filepath, \u001b[38;5;28mcompile\u001b[39m, options)\n\u001b[0;32m    214\u001b[0m \u001b[38;5;28;01mraise\u001b[39;00m \u001b[38;5;167;01mIOError\u001b[39;00m(\n\u001b[0;32m    215\u001b[0m     \u001b[38;5;124m'\u001b[39m\u001b[38;5;124mUnable to load model. Filepath is not an hdf5 file (or h5py is not \u001b[39m\u001b[38;5;124m'\u001b[39m\n\u001b[0;32m    216\u001b[0m     \u001b[38;5;124m'\u001b[39m\u001b[38;5;124mavailable) or SavedModel.\u001b[39m\u001b[38;5;124m'\u001b[39m)\n",
      "File \u001b[1;32mc:\\users\\jisha joseph\\appdata\\local\\programs\\python\\python38\\lib\\site-packages\\tensorflow\\python\\saved_model\\loader_impl.py:111\u001b[0m, in \u001b[0;36mparse_saved_model\u001b[1;34m(export_dir)\u001b[0m\n\u001b[0;32m    109\u001b[0m     \u001b[38;5;28;01mraise\u001b[39;00m \u001b[38;5;167;01mIOError\u001b[39;00m(\u001b[38;5;124m\"\u001b[39m\u001b[38;5;124mCannot parse file \u001b[39m\u001b[38;5;132;01m%s\u001b[39;00m\u001b[38;5;124m: \u001b[39m\u001b[38;5;132;01m%s\u001b[39;00m\u001b[38;5;124m.\u001b[39m\u001b[38;5;124m\"\u001b[39m \u001b[38;5;241m%\u001b[39m (path_to_pbtxt, \u001b[38;5;28mstr\u001b[39m(e)))\n\u001b[0;32m    110\u001b[0m \u001b[38;5;28;01melse\u001b[39;00m:\n\u001b[1;32m--> 111\u001b[0m   \u001b[38;5;28;01mraise\u001b[39;00m \u001b[38;5;167;01mIOError\u001b[39;00m(\u001b[38;5;124m\"\u001b[39m\u001b[38;5;124mSavedModel file does not exist at: \u001b[39m\u001b[38;5;132;01m%s\u001b[39;00m\u001b[38;5;124m/\u001b[39m\u001b[38;5;124m{\u001b[39m\u001b[38;5;132;01m%s\u001b[39;00m\u001b[38;5;124m|\u001b[39m\u001b[38;5;132;01m%s\u001b[39;00m\u001b[38;5;124m}\u001b[39m\u001b[38;5;124m\"\u001b[39m \u001b[38;5;241m%\u001b[39m\n\u001b[0;32m    112\u001b[0m                 (export_dir,\n\u001b[0;32m    113\u001b[0m                  constants\u001b[38;5;241m.\u001b[39mSAVED_MODEL_FILENAME_PBTXT,\n\u001b[0;32m    114\u001b[0m                  constants\u001b[38;5;241m.\u001b[39mSAVED_MODEL_FILENAME_PB))\n",
      "\u001b[1;31mOSError\u001b[0m: SavedModel file does not exist at: action.h5/{saved_model.pbtxt|saved_model.pb}"
     ]
    }
   ],
   "source": [
    "from tensorflow import keras\n",
    "model = keras.models.load_model('action.h5')"
   ]
  },
  {
   "cell_type": "code",
   "execution_count": 26,
   "id": "316ce34f",
   "metadata": {},
   "outputs": [],
   "source": [
    "from tensorflow.keras.models import Sequential\n",
    "from tensorflow.keras.layers import LSTM, Dense\n",
    "from tensorflow.keras.callbacks import TensorBoard"
   ]
  },
  {
   "cell_type": "code",
   "execution_count": 27,
   "id": "d99bff20",
   "metadata": {},
   "outputs": [],
   "source": [
    "model = Sequential()\n",
    "model.add(LSTM(64, return_sequences=True, activation='relu', input_shape=(30,126)))\n",
    "model.add(LSTM(128, return_sequences=True, activation='relu'))\n",
    "model.add(LSTM(64, return_sequences=False, activation='relu'))\n",
    "model.add(Dense(64, activation='relu'))\n",
    "model.add(Dense(32, activation='relu'))\n",
    "model.add(Dense(actions.shape[0], activation='softmax'))"
   ]
  },
  {
   "cell_type": "code",
   "execution_count": 28,
   "id": "05939cda",
   "metadata": {},
   "outputs": [],
   "source": [
    "model.compile(optimizer='Adam', loss='categorical_crossentropy', metrics=['categorical_accuracy'])"
   ]
  },
  {
   "cell_type": "code",
   "execution_count": 29,
   "id": "aa0eeff6",
   "metadata": {
    "scrolled": true
   },
   "outputs": [
    {
     "name": "stdout",
     "output_type": "stream",
     "text": [
      "Epoch 1/250\n",
      "85/85 [==============================] - 7s 43ms/step - loss: 3.0975 - categorical_accuracy: 0.0792\n",
      "Epoch 2/250\n",
      "85/85 [==============================] - 4s 52ms/step - loss: 2.4520 - categorical_accuracy: 0.1534\n",
      "Epoch 3/250\n",
      "85/85 [==============================] - 5s 55ms/step - loss: 2.2621 - categorical_accuracy: 0.2296\n",
      "Epoch 4/250\n",
      "85/85 [==============================] - 4s 45ms/step - loss: 1.9916 - categorical_accuracy: 0.2663\n",
      "Epoch 5/250\n",
      "85/85 [==============================] - 4s 51ms/step - loss: 2.3580 - categorical_accuracy: 0.3009\n",
      "Epoch 6/250\n",
      "85/85 [==============================] - 5s 53ms/step - loss: 2.0333 - categorical_accuracy: 0.2775\n",
      "Epoch 7/250\n",
      "85/85 [==============================] - 4s 41ms/step - loss: 1.6755 - categorical_accuracy: 0.3883\n",
      "Epoch 8/250\n",
      "85/85 [==============================] - 4s 45ms/step - loss: 1.4687 - categorical_accuracy: 0.4499\n",
      "Epoch 9/250\n",
      "85/85 [==============================] - 4s 42ms/step - loss: 1.2693 - categorical_accuracy: 0.5161\n",
      "Epoch 10/250\n",
      "85/85 [==============================] - 4s 43ms/step - loss: 1.1711 - categorical_accuracy: 0.5520\n",
      "Epoch 11/250\n",
      "85/85 [==============================] - 4s 46ms/step - loss: 0.9826 - categorical_accuracy: 0.6244\n",
      "Epoch 12/250\n",
      "85/85 [==============================] - 4s 50ms/step - loss: 0.9864 - categorical_accuracy: 0.6465\n",
      "Epoch 13/250\n",
      "85/85 [==============================] - 4s 50ms/step - loss: 0.7761 - categorical_accuracy: 0.6839\n",
      "Epoch 14/250\n",
      "85/85 [==============================] - 4s 43ms/step - loss: 0.8257 - categorical_accuracy: 0.6823\n",
      "Epoch 15/250\n",
      "85/85 [==============================] - 4s 42ms/step - loss: 0.6837 - categorical_accuracy: 0.7257\n",
      "Epoch 16/250\n",
      "85/85 [==============================] - 4s 42ms/step - loss: 0.7823 - categorical_accuracy: 0.7053\n",
      "Epoch 17/250\n",
      "85/85 [==============================] - 4s 42ms/step - loss: 0.6413 - categorical_accuracy: 0.7516\n",
      "Epoch 18/250\n",
      "85/85 [==============================] - 4s 42ms/step - loss: 0.5405 - categorical_accuracy: 0.7773\n",
      "Epoch 19/250\n",
      "85/85 [==============================] - 4s 42ms/step - loss: 0.4462 - categorical_accuracy: 0.8279\n",
      "Epoch 20/250\n",
      "85/85 [==============================] - 5s 54ms/step - loss: 0.4950 - categorical_accuracy: 0.8122\n",
      "Epoch 21/250\n",
      "85/85 [==============================] - 4s 50ms/step - loss: 0.5432 - categorical_accuracy: 0.7964\n",
      "Epoch 22/250\n",
      "85/85 [==============================] - 6s 65ms/step - loss: 0.4964 - categorical_accuracy: 0.8109\n",
      "Epoch 23/250\n",
      "85/85 [==============================] - 5s 65ms/step - loss: 0.5120 - categorical_accuracy: 0.8033\n",
      "Epoch 24/250\n",
      "85/85 [==============================] - 5s 58ms/step - loss: 0.3779 - categorical_accuracy: 0.8485\n",
      "Epoch 25/250\n",
      "85/85 [==============================] - 5s 58ms/step - loss: 0.3966 - categorical_accuracy: 0.8609\n",
      "Epoch 26/250\n",
      "85/85 [==============================] - 4s 51ms/step - loss: 0.2650 - categorical_accuracy: 0.8965\n",
      "Epoch 27/250\n",
      "85/85 [==============================] - 4s 44ms/step - loss: 0.3202 - categorical_accuracy: 0.8812\n",
      "Epoch 28/250\n",
      "85/85 [==============================] - 4s 53ms/step - loss: 0.4095 - categorical_accuracy: 0.8547\n",
      "Epoch 29/250\n",
      "85/85 [==============================] - 3s 38ms/step - loss: 0.3132 - categorical_accuracy: 0.8911\n",
      "Epoch 30/250\n",
      "85/85 [==============================] - 3s 36ms/step - loss: 0.2657 - categorical_accuracy: 0.8961\n",
      "Epoch 31/250\n",
      "85/85 [==============================] - 3s 35ms/step - loss: 0.3712 - categorical_accuracy: 0.8771\n",
      "Epoch 32/250\n",
      "85/85 [==============================] - 3s 36ms/step - loss: 0.2247 - categorical_accuracy: 0.9177\n",
      "Epoch 33/250\n",
      "85/85 [==============================] - 3s 36ms/step - loss: 0.4077 - categorical_accuracy: 0.8514\n",
      "Epoch 34/250\n",
      "85/85 [==============================] - 3s 38ms/step - loss: 0.3182 - categorical_accuracy: 0.8860\n",
      "Epoch 35/250\n",
      "85/85 [==============================] - 3s 36ms/step - loss: 0.1497 - categorical_accuracy: 0.9435\n",
      "Epoch 36/250\n",
      "85/85 [==============================] - 3s 37ms/step - loss: 0.1978 - categorical_accuracy: 0.9376\n",
      "Epoch 37/250\n",
      "85/85 [==============================] - 3s 35ms/step - loss: 0.1764 - categorical_accuracy: 0.9396\n",
      "Epoch 38/250\n",
      "85/85 [==============================] - 3s 38ms/step - loss: 0.1682 - categorical_accuracy: 0.9399\n",
      "Epoch 39/250\n",
      "85/85 [==============================] - 3s 39ms/step - loss: 0.1478 - categorical_accuracy: 0.9540\n",
      "Epoch 40/250\n",
      "85/85 [==============================] - 3s 38ms/step - loss: 0.3045 - categorical_accuracy: 0.8993\n",
      "Epoch 41/250\n",
      "85/85 [==============================] - 3s 38ms/step - loss: 0.2339 - categorical_accuracy: 0.9274\n",
      "Epoch 42/250\n",
      "85/85 [==============================] - 3s 38ms/step - loss: 0.1055 - categorical_accuracy: 0.9641\n",
      "Epoch 43/250\n",
      "85/85 [==============================] - 3s 38ms/step - loss: 0.1465 - categorical_accuracy: 0.9508\n",
      "Epoch 44/250\n",
      "85/85 [==============================] - 3s 38ms/step - loss: 0.1289 - categorical_accuracy: 0.9604\n",
      "Epoch 45/250\n",
      "85/85 [==============================] - 3s 37ms/step - loss: 0.2326 - categorical_accuracy: 0.9293\n",
      "Epoch 46/250\n",
      "85/85 [==============================] - 3s 37ms/step - loss: 0.1307 - categorical_accuracy: 0.9490\n",
      "Epoch 47/250\n",
      "85/85 [==============================] - 3s 39ms/step - loss: 0.1008 - categorical_accuracy: 0.9634\n",
      "Epoch 48/250\n",
      "85/85 [==============================] - 3s 38ms/step - loss: 0.1152 - categorical_accuracy: 0.9623\n",
      "Epoch 49/250\n",
      "85/85 [==============================] - 3s 37ms/step - loss: 0.1136 - categorical_accuracy: 0.9572\n",
      "Epoch 50/250\n",
      "85/85 [==============================] - 3s 38ms/step - loss: 0.1241 - categorical_accuracy: 0.9595\n",
      "Epoch 51/250\n",
      "85/85 [==============================] - 3s 38ms/step - loss: 0.5554 - categorical_accuracy: 0.8367\n",
      "Epoch 52/250\n",
      "85/85 [==============================] - 3s 38ms/step - loss: 0.1570 - categorical_accuracy: 0.9495\n",
      "Epoch 53/250\n",
      "85/85 [==============================] - 3s 38ms/step - loss: 0.1113 - categorical_accuracy: 0.9667\n",
      "Epoch 54/250\n",
      "85/85 [==============================] - 3s 37ms/step - loss: 0.0944 - categorical_accuracy: 0.9687\n",
      "Epoch 55/250\n",
      "85/85 [==============================] - 3s 38ms/step - loss: 0.0833 - categorical_accuracy: 0.9753\n",
      "Epoch 56/250\n",
      "85/85 [==============================] - 3s 38ms/step - loss: 0.2338 - categorical_accuracy: 0.9186\n",
      "Epoch 57/250\n",
      "85/85 [==============================] - 3s 37ms/step - loss: 0.0757 - categorical_accuracy: 0.9775\n",
      "Epoch 58/250\n",
      "85/85 [==============================] - 3s 39ms/step - loss: 0.1057 - categorical_accuracy: 0.9704\n",
      "Epoch 59/250\n",
      "85/85 [==============================] - 3s 38ms/step - loss: 0.1185 - categorical_accuracy: 0.9612\n",
      "Epoch 60/250\n",
      "85/85 [==============================] - 3s 39ms/step - loss: 0.2118 - categorical_accuracy: 0.9372\n",
      "Epoch 61/250\n",
      "85/85 [==============================] - 3s 38ms/step - loss: 0.1529 - categorical_accuracy: 0.9458\n",
      "Epoch 62/250\n",
      "85/85 [==============================] - 3s 38ms/step - loss: 0.0447 - categorical_accuracy: 0.9846\n",
      "Epoch 63/250\n",
      "85/85 [==============================] - 3s 39ms/step - loss: 0.1811 - categorical_accuracy: 0.9406\n",
      "Epoch 64/250\n",
      "85/85 [==============================] - 3s 39ms/step - loss: 0.1758 - categorical_accuracy: 0.9429\n",
      "Epoch 65/250\n",
      "85/85 [==============================] - 3s 39ms/step - loss: 0.0418 - categorical_accuracy: 0.9868\n",
      "Epoch 66/250\n",
      "85/85 [==============================] - 3s 39ms/step - loss: 0.2598 - categorical_accuracy: 0.9150\n",
      "Epoch 67/250\n",
      "85/85 [==============================] - 3s 40ms/step - loss: 0.2243 - categorical_accuracy: 0.9327\n",
      "Epoch 68/250\n",
      "85/85 [==============================] - 3s 39ms/step - loss: 0.0930 - categorical_accuracy: 0.9725\n",
      "Epoch 69/250\n",
      "85/85 [==============================] - 3s 39ms/step - loss: 0.3895 - categorical_accuracy: 0.8745\n",
      "Epoch 70/250\n",
      "85/85 [==============================] - 3s 39ms/step - loss: 0.1099 - categorical_accuracy: 0.9684\n",
      "Epoch 71/250\n",
      "85/85 [==============================] - 3s 38ms/step - loss: 0.1324 - categorical_accuracy: 0.9557\n",
      "Epoch 72/250\n",
      "85/85 [==============================] - 3s 38ms/step - loss: 0.1972 - categorical_accuracy: 0.9301\n",
      "Epoch 73/250\n",
      "85/85 [==============================] - 3s 41ms/step - loss: 0.0661 - categorical_accuracy: 0.9808\n",
      "Epoch 74/250\n",
      "85/85 [==============================] - 3s 38ms/step - loss: 0.0800 - categorical_accuracy: 0.9764\n",
      "Epoch 75/250\n",
      "85/85 [==============================] - 3s 38ms/step - loss: 0.0511 - categorical_accuracy: 0.9840\n",
      "Epoch 76/250\n",
      "85/85 [==============================] - 3s 40ms/step - loss: 0.1491 - categorical_accuracy: 0.9582\n",
      "Epoch 77/250\n",
      "85/85 [==============================] - 3s 38ms/step - loss: 0.0989 - categorical_accuracy: 0.9697\n",
      "Epoch 78/250\n",
      "85/85 [==============================] - 3s 37ms/step - loss: 0.1152 - categorical_accuracy: 0.9608\n",
      "Epoch 79/250\n",
      "85/85 [==============================] - 3s 39ms/step - loss: 0.0816 - categorical_accuracy: 0.9706\n",
      "Epoch 80/250\n",
      "85/85 [==============================] - 3s 38ms/step - loss: 0.0465 - categorical_accuracy: 0.9826\n",
      "Epoch 81/250\n",
      "85/85 [==============================] - 3s 40ms/step - loss: 0.0366 - categorical_accuracy: 0.9868\n",
      "Epoch 82/250\n",
      "85/85 [==============================] - 3s 38ms/step - loss: 0.1262 - categorical_accuracy: 0.9532\n",
      "Epoch 83/250\n",
      "85/85 [==============================] - 3s 40ms/step - loss: 0.0737 - categorical_accuracy: 0.9779\n",
      "Epoch 84/250\n",
      "85/85 [==============================] - 3s 39ms/step - loss: 0.2240 - categorical_accuracy: 0.9327\n",
      "Epoch 85/250\n",
      "85/85 [==============================] - 3s 38ms/step - loss: 0.1846 - categorical_accuracy: 0.9424\n",
      "Epoch 86/250\n",
      "85/85 [==============================] - 3s 38ms/step - loss: 0.0315 - categorical_accuracy: 0.9951\n",
      "Epoch 87/250\n",
      "85/85 [==============================] - 3s 38ms/step - loss: 0.0646 - categorical_accuracy: 0.9753\n",
      "Epoch 88/250\n",
      "85/85 [==============================] - 3s 38ms/step - loss: 0.1606 - categorical_accuracy: 0.9450\n",
      "Epoch 89/250\n",
      "85/85 [==============================] - 3s 38ms/step - loss: 0.0485 - categorical_accuracy: 0.9840\n",
      "Epoch 90/250\n",
      "85/85 [==============================] - 3s 38ms/step - loss: 0.0217 - categorical_accuracy: 0.9903\n",
      "Epoch 91/250\n",
      "85/85 [==============================] - 3s 38ms/step - loss: 0.0479 - categorical_accuracy: 0.9852\n",
      "Epoch 92/250\n",
      "85/85 [==============================] - 3s 39ms/step - loss: 0.2036 - categorical_accuracy: 0.9338\n",
      "Epoch 93/250\n",
      "85/85 [==============================] - 3s 39ms/step - loss: 0.1228 - categorical_accuracy: 0.9668\n",
      "Epoch 94/250\n",
      "85/85 [==============================] - 3s 39ms/step - loss: 0.0202 - categorical_accuracy: 0.9966\n",
      "Epoch 95/250\n",
      "85/85 [==============================] - 3s 38ms/step - loss: 0.0829 - categorical_accuracy: 0.9769\n",
      "Epoch 96/250\n",
      "85/85 [==============================] - 3s 38ms/step - loss: 0.0136 - categorical_accuracy: 0.9978\n",
      "Epoch 97/250\n",
      "85/85 [==============================] - 3s 40ms/step - loss: 0.1587 - categorical_accuracy: 0.9525\n",
      "Epoch 98/250\n",
      "85/85 [==============================] - 3s 40ms/step - loss: 0.0782 - categorical_accuracy: 0.9752\n",
      "Epoch 99/250\n",
      "85/85 [==============================] - 4s 44ms/step - loss: 0.0127 - categorical_accuracy: 0.9962\n",
      "Epoch 100/250\n",
      "85/85 [==============================] - 3s 41ms/step - loss: 0.0222 - categorical_accuracy: 0.9932\n",
      "Epoch 101/250\n",
      "85/85 [==============================] - 4s 42ms/step - loss: 0.0150 - categorical_accuracy: 0.9940\n",
      "Epoch 102/250\n",
      "85/85 [==============================] - 4s 41ms/step - loss: 0.0721 - categorical_accuracy: 0.9780\n",
      "Epoch 103/250\n",
      "85/85 [==============================] - 3s 39ms/step - loss: 0.0489 - categorical_accuracy: 0.9837\n",
      "Epoch 104/250\n",
      "85/85 [==============================] - 3s 40ms/step - loss: 0.0238 - categorical_accuracy: 0.9947\n",
      "Epoch 105/250\n",
      "85/85 [==============================] - 3s 41ms/step - loss: 0.2772 - categorical_accuracy: 0.9210\n",
      "Epoch 106/250\n",
      "85/85 [==============================] - 3s 41ms/step - loss: 0.0267 - categorical_accuracy: 0.9932\n",
      "Epoch 107/250\n",
      "85/85 [==============================] - 3s 39ms/step - loss: 0.0227 - categorical_accuracy: 0.9951\n",
      "Epoch 108/250\n",
      "85/85 [==============================] - 3s 40ms/step - loss: 0.0232 - categorical_accuracy: 0.9950\n",
      "Epoch 109/250\n",
      "85/85 [==============================] - 3s 38ms/step - loss: 0.1966 - categorical_accuracy: 0.9481\n",
      "Epoch 110/250\n",
      "85/85 [==============================] - 3s 38ms/step - loss: 0.0320 - categorical_accuracy: 0.9911\n",
      "Epoch 111/250\n",
      "85/85 [==============================] - 3s 39ms/step - loss: 0.0529 - categorical_accuracy: 0.9841\n",
      "Epoch 112/250\n",
      "85/85 [==============================] - 4s 41ms/step - loss: 0.0432 - categorical_accuracy: 0.9874\n",
      "Epoch 113/250\n",
      "85/85 [==============================] - 3s 38ms/step - loss: 0.0501 - categorical_accuracy: 0.9838\n",
      "Epoch 114/250\n",
      "85/85 [==============================] - 3s 38ms/step - loss: 0.2084 - categorical_accuracy: 0.9319\n",
      "Epoch 115/250\n",
      "85/85 [==============================] - 3s 38ms/step - loss: 0.0822 - categorical_accuracy: 0.9654\n",
      "Epoch 116/250\n",
      "85/85 [==============================] - 3s 39ms/step - loss: 0.0086 - categorical_accuracy: 0.9983\n",
      "Epoch 117/250\n",
      "85/85 [==============================] - 3s 39ms/step - loss: 0.0082 - categorical_accuracy: 0.9972\n",
      "Epoch 118/250\n",
      "85/85 [==============================] - 3s 39ms/step - loss: 0.0108 - categorical_accuracy: 0.9959\n",
      "Epoch 119/250\n",
      "85/85 [==============================] - 3s 40ms/step - loss: 0.0216 - categorical_accuracy: 0.9934\n",
      "Epoch 120/250\n",
      "85/85 [==============================] - 3s 38ms/step - loss: 0.2469 - categorical_accuracy: 0.9246\n",
      "Epoch 121/250\n",
      "85/85 [==============================] - 3s 38ms/step - loss: 0.0701 - categorical_accuracy: 0.9752\n",
      "Epoch 122/250\n",
      "85/85 [==============================] - 3s 38ms/step - loss: 0.0796 - categorical_accuracy: 0.9805\n",
      "Epoch 123/250\n",
      "85/85 [==============================] - 3s 38ms/step - loss: 0.0061 - categorical_accuracy: 0.9992\n",
      "Epoch 124/250\n",
      "85/85 [==============================] - 3s 39ms/step - loss: 0.0103 - categorical_accuracy: 0.9979\n",
      "Epoch 125/250\n",
      "85/85 [==============================] - 4s 46ms/step - loss: 0.0044 - categorical_accuracy: 0.9992\n",
      "Epoch 126/250\n",
      "85/85 [==============================] - 3s 40ms/step - loss: 0.0399 - categorical_accuracy: 0.9890\n",
      "Epoch 127/250\n",
      "85/85 [==============================] - 3s 38ms/step - loss: 0.1521 - categorical_accuracy: 0.9529\n",
      "Epoch 128/250\n",
      "85/85 [==============================] - 3s 38ms/step - loss: 0.2068 - categorical_accuracy: 0.9376\n",
      "Epoch 129/250\n",
      "85/85 [==============================] - 3s 38ms/step - loss: 0.0396 - categorical_accuracy: 0.9816\n",
      "Epoch 130/250\n",
      "85/85 [==============================] - 3s 38ms/step - loss: 0.0240 - categorical_accuracy: 0.9946\n",
      "Epoch 131/250\n",
      "85/85 [==============================] - 3s 37ms/step - loss: 0.0650 - categorical_accuracy: 0.9850\n",
      "Epoch 132/250\n",
      "85/85 [==============================] - 3s 38ms/step - loss: 0.0105 - categorical_accuracy: 0.9974\n",
      "Epoch 133/250\n",
      "85/85 [==============================] - 3s 38ms/step - loss: 0.0238 - categorical_accuracy: 0.9917\n",
      "Epoch 134/250\n",
      "85/85 [==============================] - 3s 38ms/step - loss: 0.0398 - categorical_accuracy: 0.9883\n",
      "Epoch 135/250\n",
      "85/85 [==============================] - 3s 38ms/step - loss: 0.0088 - categorical_accuracy: 0.9992\n",
      "Epoch 136/250\n",
      "85/85 [==============================] - 3s 38ms/step - loss: 0.2807 - categorical_accuracy: 0.9259\n",
      "Epoch 137/250\n",
      "85/85 [==============================] - 3s 38ms/step - loss: 0.0655 - categorical_accuracy: 0.9837\n",
      "Epoch 138/250\n",
      "85/85 [==============================] - 3s 38ms/step - loss: 0.0120 - categorical_accuracy: 0.9968\n",
      "Epoch 139/250\n",
      "85/85 [==============================] - 3s 38ms/step - loss: 0.0104 - categorical_accuracy: 0.9947\n",
      "Epoch 140/250\n",
      "85/85 [==============================] - 3s 37ms/step - loss: 0.0168 - categorical_accuracy: 0.9952\n",
      "Epoch 141/250\n",
      "85/85 [==============================] - 3s 38ms/step - loss: 0.0474 - categorical_accuracy: 0.9839\n",
      "Epoch 142/250\n",
      "85/85 [==============================] - 3s 38ms/step - loss: 0.0057 - categorical_accuracy: 0.9992\n",
      "Epoch 143/250\n",
      "85/85 [==============================] - 4s 41ms/step - loss: 0.0941 - categorical_accuracy: 0.9670\n",
      "Epoch 144/250\n",
      "85/85 [==============================] - 3s 38ms/step - loss: 0.1061 - categorical_accuracy: 0.9696\n",
      "Epoch 145/250\n"
     ]
    },
    {
     "name": "stdout",
     "output_type": "stream",
     "text": [
      "85/85 [==============================] - 3s 37ms/step - loss: 0.0543 - categorical_accuracy: 0.9851\n",
      "Epoch 146/250\n",
      "85/85 [==============================] - 3s 37ms/step - loss: 0.0721 - categorical_accuracy: 0.9825\n",
      "Epoch 147/250\n",
      "85/85 [==============================] - 3s 37ms/step - loss: 0.0478 - categorical_accuracy: 0.9834\n",
      "Epoch 148/250\n",
      "85/85 [==============================] - 3s 38ms/step - loss: 0.0594 - categorical_accuracy: 0.9823\n",
      "Epoch 149/250\n",
      "85/85 [==============================] - 3s 40ms/step - loss: 0.0698 - categorical_accuracy: 0.9810\n",
      "Epoch 150/250\n",
      "85/85 [==============================] - 3s 38ms/step - loss: 0.0128 - categorical_accuracy: 0.9947\n",
      "Epoch 151/250\n",
      "85/85 [==============================] - 3s 37ms/step - loss: 0.0601 - categorical_accuracy: 0.9818\n",
      "Epoch 152/250\n",
      "85/85 [==============================] - 3s 38ms/step - loss: 0.1168 - categorical_accuracy: 0.9659\n",
      "Epoch 153/250\n",
      "85/85 [==============================] - 3s 38ms/step - loss: 0.0375 - categorical_accuracy: 0.9929\n",
      "Epoch 154/250\n",
      "85/85 [==============================] - 3s 38ms/step - loss: 0.0643 - categorical_accuracy: 0.9829\n",
      "Epoch 155/250\n",
      "85/85 [==============================] - 3s 38ms/step - loss: 0.0044 - categorical_accuracy: 0.9998\n",
      "Epoch 156/250\n",
      "85/85 [==============================] - 3s 38ms/step - loss: 0.0039 - categorical_accuracy: 0.9986\n",
      "Epoch 157/250\n",
      "85/85 [==============================] - 3s 38ms/step - loss: 9.2016e-04 - categorical_accuracy: 1.0000\n",
      "Epoch 158/250\n",
      "85/85 [==============================] - 3s 38ms/step - loss: 0.1084 - categorical_accuracy: 0.9750\n",
      "Epoch 159/250\n",
      "85/85 [==============================] - 3s 38ms/step - loss: 0.0224 - categorical_accuracy: 0.9958\n",
      "Epoch 160/250\n",
      "85/85 [==============================] - 3s 38ms/step - loss: 0.0032 - categorical_accuracy: 1.0000\n",
      "Epoch 161/250\n",
      "85/85 [==============================] - 3s 39ms/step - loss: 0.0011 - categorical_accuracy: 1.0000\n",
      "Epoch 162/250\n",
      "85/85 [==============================] - 3s 37ms/step - loss: 7.6172e-04 - categorical_accuracy: 1.0000\n",
      "Epoch 163/250\n",
      "85/85 [==============================] - 3s 38ms/step - loss: 4.9288e-04 - categorical_accuracy: 1.0000\n",
      "Epoch 164/250\n",
      "85/85 [==============================] - 3s 38ms/step - loss: 4.3974e-04 - categorical_accuracy: 1.0000\n",
      "Epoch 165/250\n",
      "85/85 [==============================] - 3s 37ms/step - loss: 3.5362e-04 - categorical_accuracy: 1.0000\n",
      "Epoch 166/250\n",
      "85/85 [==============================] - 3s 38ms/step - loss: 3.0438e-04 - categorical_accuracy: 1.0000\n",
      "Epoch 167/250\n",
      "85/85 [==============================] - 3s 38ms/step - loss: 2.5375e-04 - categorical_accuracy: 1.0000\n",
      "Epoch 168/250\n",
      "85/85 [==============================] - 3s 41ms/step - loss: 2.0352e-04 - categorical_accuracy: 1.0000\n",
      "Epoch 169/250\n",
      "85/85 [==============================] - 3s 38ms/step - loss: 1.9381e-04 - categorical_accuracy: 1.0000\n",
      "Epoch 170/250\n",
      "85/85 [==============================] - 3s 38ms/step - loss: 1.4118e-04 - categorical_accuracy: 1.0000\n",
      "Epoch 171/250\n",
      "85/85 [==============================] - 3s 38ms/step - loss: 1.3444e-04 - categorical_accuracy: 1.0000\n",
      "Epoch 172/250\n",
      "85/85 [==============================] - 3s 38ms/step - loss: 1.2688e-04 - categorical_accuracy: 1.0000\n",
      "Epoch 173/250\n",
      "85/85 [==============================] - 3s 41ms/step - loss: 1.2292e-04 - categorical_accuracy: 1.0000\n",
      "Epoch 174/250\n",
      "85/85 [==============================] - 3s 39ms/step - loss: 9.7143e-05 - categorical_accuracy: 1.0000\n",
      "Epoch 175/250\n",
      "85/85 [==============================] - 3s 39ms/step - loss: 8.6157e-05 - categorical_accuracy: 1.0000\n",
      "Epoch 176/250\n",
      "45/85 [==============>...............] - ETA: 1s - loss: 6.9447e-05 - categorical_accuracy: 1.0000"
     ]
    },
    {
     "ename": "KeyboardInterrupt",
     "evalue": "",
     "output_type": "error",
     "traceback": [
      "\u001b[1;31m---------------------------------------------------------------------------\u001b[0m",
      "\u001b[1;31mKeyboardInterrupt\u001b[0m                         Traceback (most recent call last)",
      "Cell \u001b[1;32mIn[29], line 1\u001b[0m\n\u001b[1;32m----> 1\u001b[0m \u001b[43mmodel\u001b[49m\u001b[38;5;241;43m.\u001b[39;49m\u001b[43mfit\u001b[49m\u001b[43m(\u001b[49m\u001b[43mX_train\u001b[49m\u001b[43m,\u001b[49m\u001b[43m \u001b[49m\u001b[43my_train\u001b[49m\u001b[43m,\u001b[49m\u001b[43m \u001b[49m\u001b[43mepochs\u001b[49m\u001b[38;5;241;43m=\u001b[39;49m\u001b[38;5;241;43m250\u001b[39;49m\u001b[43m)\u001b[49m\n",
      "File \u001b[1;32mc:\\users\\jisha joseph\\appdata\\local\\programs\\python\\python38\\lib\\site-packages\\tensorflow\\python\\keras\\engine\\training.py:1100\u001b[0m, in \u001b[0;36mModel.fit\u001b[1;34m(self, x, y, batch_size, epochs, verbose, callbacks, validation_split, validation_data, shuffle, class_weight, sample_weight, initial_epoch, steps_per_epoch, validation_steps, validation_batch_size, validation_freq, max_queue_size, workers, use_multiprocessing)\u001b[0m\n\u001b[0;32m   1093\u001b[0m \u001b[38;5;28;01mwith\u001b[39;00m trace\u001b[38;5;241m.\u001b[39mTrace(\n\u001b[0;32m   1094\u001b[0m     \u001b[38;5;124m'\u001b[39m\u001b[38;5;124mtrain\u001b[39m\u001b[38;5;124m'\u001b[39m,\n\u001b[0;32m   1095\u001b[0m     epoch_num\u001b[38;5;241m=\u001b[39mepoch,\n\u001b[0;32m   1096\u001b[0m     step_num\u001b[38;5;241m=\u001b[39mstep,\n\u001b[0;32m   1097\u001b[0m     batch_size\u001b[38;5;241m=\u001b[39mbatch_size,\n\u001b[0;32m   1098\u001b[0m     _r\u001b[38;5;241m=\u001b[39m\u001b[38;5;241m1\u001b[39m):\n\u001b[0;32m   1099\u001b[0m   callbacks\u001b[38;5;241m.\u001b[39mon_train_batch_begin(step)\n\u001b[1;32m-> 1100\u001b[0m   tmp_logs \u001b[38;5;241m=\u001b[39m \u001b[38;5;28;43mself\u001b[39;49m\u001b[38;5;241;43m.\u001b[39;49m\u001b[43mtrain_function\u001b[49m\u001b[43m(\u001b[49m\u001b[43miterator\u001b[49m\u001b[43m)\u001b[49m\n\u001b[0;32m   1101\u001b[0m   \u001b[38;5;28;01mif\u001b[39;00m data_handler\u001b[38;5;241m.\u001b[39mshould_sync:\n\u001b[0;32m   1102\u001b[0m     context\u001b[38;5;241m.\u001b[39masync_wait()\n",
      "File \u001b[1;32mc:\\users\\jisha joseph\\appdata\\local\\programs\\python\\python38\\lib\\site-packages\\tensorflow\\python\\eager\\def_function.py:828\u001b[0m, in \u001b[0;36mFunction.__call__\u001b[1;34m(self, *args, **kwds)\u001b[0m\n\u001b[0;32m    826\u001b[0m tracing_count \u001b[38;5;241m=\u001b[39m \u001b[38;5;28mself\u001b[39m\u001b[38;5;241m.\u001b[39mexperimental_get_tracing_count()\n\u001b[0;32m    827\u001b[0m \u001b[38;5;28;01mwith\u001b[39;00m trace\u001b[38;5;241m.\u001b[39mTrace(\u001b[38;5;28mself\u001b[39m\u001b[38;5;241m.\u001b[39m_name) \u001b[38;5;28;01mas\u001b[39;00m tm:\n\u001b[1;32m--> 828\u001b[0m   result \u001b[38;5;241m=\u001b[39m \u001b[38;5;28;43mself\u001b[39;49m\u001b[38;5;241;43m.\u001b[39;49m\u001b[43m_call\u001b[49m\u001b[43m(\u001b[49m\u001b[38;5;241;43m*\u001b[39;49m\u001b[43margs\u001b[49m\u001b[43m,\u001b[49m\u001b[43m \u001b[49m\u001b[38;5;241;43m*\u001b[39;49m\u001b[38;5;241;43m*\u001b[39;49m\u001b[43mkwds\u001b[49m\u001b[43m)\u001b[49m\n\u001b[0;32m    829\u001b[0m   compiler \u001b[38;5;241m=\u001b[39m \u001b[38;5;124m\"\u001b[39m\u001b[38;5;124mxla\u001b[39m\u001b[38;5;124m\"\u001b[39m \u001b[38;5;28;01mif\u001b[39;00m \u001b[38;5;28mself\u001b[39m\u001b[38;5;241m.\u001b[39m_experimental_compile \u001b[38;5;28;01melse\u001b[39;00m \u001b[38;5;124m\"\u001b[39m\u001b[38;5;124mnonXla\u001b[39m\u001b[38;5;124m\"\u001b[39m\n\u001b[0;32m    830\u001b[0m   new_tracing_count \u001b[38;5;241m=\u001b[39m \u001b[38;5;28mself\u001b[39m\u001b[38;5;241m.\u001b[39mexperimental_get_tracing_count()\n",
      "File \u001b[1;32mc:\\users\\jisha joseph\\appdata\\local\\programs\\python\\python38\\lib\\site-packages\\tensorflow\\python\\eager\\def_function.py:855\u001b[0m, in \u001b[0;36mFunction._call\u001b[1;34m(self, *args, **kwds)\u001b[0m\n\u001b[0;32m    852\u001b[0m   \u001b[38;5;28mself\u001b[39m\u001b[38;5;241m.\u001b[39m_lock\u001b[38;5;241m.\u001b[39mrelease()\n\u001b[0;32m    853\u001b[0m   \u001b[38;5;66;03m# In this case we have created variables on the first call, so we run the\u001b[39;00m\n\u001b[0;32m    854\u001b[0m   \u001b[38;5;66;03m# defunned version which is guaranteed to never create variables.\u001b[39;00m\n\u001b[1;32m--> 855\u001b[0m   \u001b[38;5;28;01mreturn\u001b[39;00m \u001b[38;5;28;43mself\u001b[39;49m\u001b[38;5;241;43m.\u001b[39;49m\u001b[43m_stateless_fn\u001b[49m\u001b[43m(\u001b[49m\u001b[38;5;241;43m*\u001b[39;49m\u001b[43margs\u001b[49m\u001b[43m,\u001b[49m\u001b[43m \u001b[49m\u001b[38;5;241;43m*\u001b[39;49m\u001b[38;5;241;43m*\u001b[39;49m\u001b[43mkwds\u001b[49m\u001b[43m)\u001b[49m  \u001b[38;5;66;03m# pylint: disable=not-callable\u001b[39;00m\n\u001b[0;32m    856\u001b[0m \u001b[38;5;28;01melif\u001b[39;00m \u001b[38;5;28mself\u001b[39m\u001b[38;5;241m.\u001b[39m_stateful_fn \u001b[38;5;129;01mis\u001b[39;00m \u001b[38;5;129;01mnot\u001b[39;00m \u001b[38;5;28;01mNone\u001b[39;00m:\n\u001b[0;32m    857\u001b[0m   \u001b[38;5;66;03m# Release the lock early so that multiple threads can perform the call\u001b[39;00m\n\u001b[0;32m    858\u001b[0m   \u001b[38;5;66;03m# in parallel.\u001b[39;00m\n\u001b[0;32m    859\u001b[0m   \u001b[38;5;28mself\u001b[39m\u001b[38;5;241m.\u001b[39m_lock\u001b[38;5;241m.\u001b[39mrelease()\n",
      "File \u001b[1;32mc:\\users\\jisha joseph\\appdata\\local\\programs\\python\\python38\\lib\\site-packages\\tensorflow\\python\\eager\\function.py:2942\u001b[0m, in \u001b[0;36mFunction.__call__\u001b[1;34m(self, *args, **kwargs)\u001b[0m\n\u001b[0;32m   2939\u001b[0m \u001b[38;5;28;01mwith\u001b[39;00m \u001b[38;5;28mself\u001b[39m\u001b[38;5;241m.\u001b[39m_lock:\n\u001b[0;32m   2940\u001b[0m   (graph_function,\n\u001b[0;32m   2941\u001b[0m    filtered_flat_args) \u001b[38;5;241m=\u001b[39m \u001b[38;5;28mself\u001b[39m\u001b[38;5;241m.\u001b[39m_maybe_define_function(args, kwargs)\n\u001b[1;32m-> 2942\u001b[0m \u001b[38;5;28;01mreturn\u001b[39;00m \u001b[43mgraph_function\u001b[49m\u001b[38;5;241;43m.\u001b[39;49m\u001b[43m_call_flat\u001b[49m\u001b[43m(\u001b[49m\n\u001b[0;32m   2943\u001b[0m \u001b[43m    \u001b[49m\u001b[43mfiltered_flat_args\u001b[49m\u001b[43m,\u001b[49m\u001b[43m \u001b[49m\u001b[43mcaptured_inputs\u001b[49m\u001b[38;5;241;43m=\u001b[39;49m\u001b[43mgraph_function\u001b[49m\u001b[38;5;241;43m.\u001b[39;49m\u001b[43mcaptured_inputs\u001b[49m\u001b[43m)\u001b[49m\n",
      "File \u001b[1;32mc:\\users\\jisha joseph\\appdata\\local\\programs\\python\\python38\\lib\\site-packages\\tensorflow\\python\\eager\\function.py:1918\u001b[0m, in \u001b[0;36mConcreteFunction._call_flat\u001b[1;34m(self, args, captured_inputs, cancellation_manager)\u001b[0m\n\u001b[0;32m   1914\u001b[0m possible_gradient_type \u001b[38;5;241m=\u001b[39m gradients_util\u001b[38;5;241m.\u001b[39mPossibleTapeGradientTypes(args)\n\u001b[0;32m   1915\u001b[0m \u001b[38;5;28;01mif\u001b[39;00m (possible_gradient_type \u001b[38;5;241m==\u001b[39m gradients_util\u001b[38;5;241m.\u001b[39mPOSSIBLE_GRADIENT_TYPES_NONE\n\u001b[0;32m   1916\u001b[0m     \u001b[38;5;129;01mand\u001b[39;00m executing_eagerly):\n\u001b[0;32m   1917\u001b[0m   \u001b[38;5;66;03m# No tape is watching; skip to running the function.\u001b[39;00m\n\u001b[1;32m-> 1918\u001b[0m   \u001b[38;5;28;01mreturn\u001b[39;00m \u001b[38;5;28mself\u001b[39m\u001b[38;5;241m.\u001b[39m_build_call_outputs(\u001b[38;5;28;43mself\u001b[39;49m\u001b[38;5;241;43m.\u001b[39;49m\u001b[43m_inference_function\u001b[49m\u001b[38;5;241;43m.\u001b[39;49m\u001b[43mcall\u001b[49m\u001b[43m(\u001b[49m\n\u001b[0;32m   1919\u001b[0m \u001b[43m      \u001b[49m\u001b[43mctx\u001b[49m\u001b[43m,\u001b[49m\u001b[43m \u001b[49m\u001b[43margs\u001b[49m\u001b[43m,\u001b[49m\u001b[43m \u001b[49m\u001b[43mcancellation_manager\u001b[49m\u001b[38;5;241;43m=\u001b[39;49m\u001b[43mcancellation_manager\u001b[49m\u001b[43m)\u001b[49m)\n\u001b[0;32m   1920\u001b[0m forward_backward \u001b[38;5;241m=\u001b[39m \u001b[38;5;28mself\u001b[39m\u001b[38;5;241m.\u001b[39m_select_forward_and_backward_functions(\n\u001b[0;32m   1921\u001b[0m     args,\n\u001b[0;32m   1922\u001b[0m     possible_gradient_type,\n\u001b[0;32m   1923\u001b[0m     executing_eagerly)\n\u001b[0;32m   1924\u001b[0m forward_function, args_with_tangents \u001b[38;5;241m=\u001b[39m forward_backward\u001b[38;5;241m.\u001b[39mforward()\n",
      "File \u001b[1;32mc:\\users\\jisha joseph\\appdata\\local\\programs\\python\\python38\\lib\\site-packages\\tensorflow\\python\\eager\\function.py:555\u001b[0m, in \u001b[0;36m_EagerDefinedFunction.call\u001b[1;34m(self, ctx, args, cancellation_manager)\u001b[0m\n\u001b[0;32m    553\u001b[0m \u001b[38;5;28;01mwith\u001b[39;00m _InterpolateFunctionError(\u001b[38;5;28mself\u001b[39m):\n\u001b[0;32m    554\u001b[0m   \u001b[38;5;28;01mif\u001b[39;00m cancellation_manager \u001b[38;5;129;01mis\u001b[39;00m \u001b[38;5;28;01mNone\u001b[39;00m:\n\u001b[1;32m--> 555\u001b[0m     outputs \u001b[38;5;241m=\u001b[39m \u001b[43mexecute\u001b[49m\u001b[38;5;241;43m.\u001b[39;49m\u001b[43mexecute\u001b[49m\u001b[43m(\u001b[49m\n\u001b[0;32m    556\u001b[0m \u001b[43m        \u001b[49m\u001b[38;5;28;43mstr\u001b[39;49m\u001b[43m(\u001b[49m\u001b[38;5;28;43mself\u001b[39;49m\u001b[38;5;241;43m.\u001b[39;49m\u001b[43msignature\u001b[49m\u001b[38;5;241;43m.\u001b[39;49m\u001b[43mname\u001b[49m\u001b[43m)\u001b[49m\u001b[43m,\u001b[49m\n\u001b[0;32m    557\u001b[0m \u001b[43m        \u001b[49m\u001b[43mnum_outputs\u001b[49m\u001b[38;5;241;43m=\u001b[39;49m\u001b[38;5;28;43mself\u001b[39;49m\u001b[38;5;241;43m.\u001b[39;49m\u001b[43m_num_outputs\u001b[49m\u001b[43m,\u001b[49m\n\u001b[0;32m    558\u001b[0m \u001b[43m        \u001b[49m\u001b[43minputs\u001b[49m\u001b[38;5;241;43m=\u001b[39;49m\u001b[43margs\u001b[49m\u001b[43m,\u001b[49m\n\u001b[0;32m    559\u001b[0m \u001b[43m        \u001b[49m\u001b[43mattrs\u001b[49m\u001b[38;5;241;43m=\u001b[39;49m\u001b[43mattrs\u001b[49m\u001b[43m,\u001b[49m\n\u001b[0;32m    560\u001b[0m \u001b[43m        \u001b[49m\u001b[43mctx\u001b[49m\u001b[38;5;241;43m=\u001b[39;49m\u001b[43mctx\u001b[49m\u001b[43m)\u001b[49m\n\u001b[0;32m    561\u001b[0m   \u001b[38;5;28;01melse\u001b[39;00m:\n\u001b[0;32m    562\u001b[0m     outputs \u001b[38;5;241m=\u001b[39m execute\u001b[38;5;241m.\u001b[39mexecute_with_cancellation(\n\u001b[0;32m    563\u001b[0m         \u001b[38;5;28mstr\u001b[39m(\u001b[38;5;28mself\u001b[39m\u001b[38;5;241m.\u001b[39msignature\u001b[38;5;241m.\u001b[39mname),\n\u001b[0;32m    564\u001b[0m         num_outputs\u001b[38;5;241m=\u001b[39m\u001b[38;5;28mself\u001b[39m\u001b[38;5;241m.\u001b[39m_num_outputs,\n\u001b[1;32m   (...)\u001b[0m\n\u001b[0;32m    567\u001b[0m         ctx\u001b[38;5;241m=\u001b[39mctx,\n\u001b[0;32m    568\u001b[0m         cancellation_manager\u001b[38;5;241m=\u001b[39mcancellation_manager)\n",
      "File \u001b[1;32mc:\\users\\jisha joseph\\appdata\\local\\programs\\python\\python38\\lib\\site-packages\\tensorflow\\python\\eager\\execute.py:59\u001b[0m, in \u001b[0;36mquick_execute\u001b[1;34m(op_name, num_outputs, inputs, attrs, ctx, name)\u001b[0m\n\u001b[0;32m     57\u001b[0m \u001b[38;5;28;01mtry\u001b[39;00m:\n\u001b[0;32m     58\u001b[0m   ctx\u001b[38;5;241m.\u001b[39mensure_initialized()\n\u001b[1;32m---> 59\u001b[0m   tensors \u001b[38;5;241m=\u001b[39m \u001b[43mpywrap_tfe\u001b[49m\u001b[38;5;241;43m.\u001b[39;49m\u001b[43mTFE_Py_Execute\u001b[49m\u001b[43m(\u001b[49m\u001b[43mctx\u001b[49m\u001b[38;5;241;43m.\u001b[39;49m\u001b[43m_handle\u001b[49m\u001b[43m,\u001b[49m\u001b[43m \u001b[49m\u001b[43mdevice_name\u001b[49m\u001b[43m,\u001b[49m\u001b[43m \u001b[49m\u001b[43mop_name\u001b[49m\u001b[43m,\u001b[49m\n\u001b[0;32m     60\u001b[0m \u001b[43m                                      \u001b[49m\u001b[43minputs\u001b[49m\u001b[43m,\u001b[49m\u001b[43m \u001b[49m\u001b[43mattrs\u001b[49m\u001b[43m,\u001b[49m\u001b[43m \u001b[49m\u001b[43mnum_outputs\u001b[49m\u001b[43m)\u001b[49m\n\u001b[0;32m     61\u001b[0m \u001b[38;5;28;01mexcept\u001b[39;00m core\u001b[38;5;241m.\u001b[39m_NotOkStatusException \u001b[38;5;28;01mas\u001b[39;00m e:\n\u001b[0;32m     62\u001b[0m   \u001b[38;5;28;01mif\u001b[39;00m name \u001b[38;5;129;01mis\u001b[39;00m \u001b[38;5;129;01mnot\u001b[39;00m \u001b[38;5;28;01mNone\u001b[39;00m:\n",
      "\u001b[1;31mKeyboardInterrupt\u001b[0m: "
     ]
    }
   ],
   "source": [
    "model.fit(X_train, y_train, epochs=250)"
   ]
  },
  {
   "cell_type": "markdown",
   "id": "88c76049",
   "metadata": {},
   "source": [
    "# Evaluation"
   ]
  },
  {
   "cell_type": "code",
   "execution_count": 56,
   "id": "09ea52ad",
   "metadata": {},
   "outputs": [],
   "source": [
    "from sklearn.metrics import confusion_matrix, accuracy_score"
   ]
  },
  {
   "cell_type": "code",
   "execution_count": 57,
   "id": "f5ce7587",
   "metadata": {},
   "outputs": [],
   "source": [
    "yhat = model.predict(X_test)"
   ]
  },
  {
   "cell_type": "code",
   "execution_count": 58,
   "id": "1f9b25c8",
   "metadata": {},
   "outputs": [
    {
     "name": "stdout",
     "output_type": "stream",
     "text": [
      "300\n",
      "300\n"
     ]
    }
   ],
   "source": [
    "ytrue = np.argmax(y_test, axis=1).tolist()\n",
    "print(len(ytrue))\n",
    "yhat = np.argmax(yhat, axis=1).tolist()\n",
    "print(len(yhat))"
   ]
  },
  {
   "cell_type": "code",
   "execution_count": 77,
   "id": "d6a496df",
   "metadata": {},
   "outputs": [],
   "source": [
    "result=np.round(confusion_matrix(ytrue, yhat)/12 ,2)"
   ]
  },
  {
   "cell_type": "code",
   "execution_count": 2,
   "id": "5d1f407c",
   "metadata": {},
   "outputs": [
    {
     "ename": "NameError",
     "evalue": "name 'result' is not defined",
     "output_type": "error",
     "traceback": [
      "\u001b[1;31m---------------------------------------------------------------------------\u001b[0m",
      "\u001b[1;31mNameError\u001b[0m                                 Traceback (most recent call last)",
      "Cell \u001b[1;32mIn[2], line 6\u001b[0m\n\u001b[0;32m      4\u001b[0m fig, ax \u001b[38;5;241m=\u001b[39m plt\u001b[38;5;241m.\u001b[39msubplots(figsize\u001b[38;5;241m=\u001b[39m(\u001b[38;5;241m17\u001b[39m,\u001b[38;5;241m17\u001b[39m))\n\u001b[0;32m      5\u001b[0m sns\u001b[38;5;241m.\u001b[39mset(font_scale\u001b[38;5;241m=\u001b[39m\u001b[38;5;241m1.3\u001b[39m) \n\u001b[1;32m----> 6\u001b[0m sns\u001b[38;5;241m.\u001b[39mheatmap(\u001b[43mresult\u001b[49m, annot\u001b[38;5;241m=\u001b[39m\u001b[38;5;28;01mTrue\u001b[39;00m, linewidth\u001b[38;5;241m=\u001b[39m\u001b[38;5;241m.5\u001b[39m,xticklabels\u001b[38;5;241m=\u001b[39mactions, yticklabels\u001b[38;5;241m=\u001b[39mactions,cmap\u001b[38;5;241m=\u001b[39m\u001b[38;5;124m\"\u001b[39m\u001b[38;5;124mBlues\u001b[39m\u001b[38;5;124m\"\u001b[39m,cbar_kws\u001b[38;5;241m=\u001b[39m{\u001b[38;5;124m\"\u001b[39m\u001b[38;5;124morientation\u001b[39m\u001b[38;5;124m\"\u001b[39m: \u001b[38;5;124m\"\u001b[39m\u001b[38;5;124mvertical\u001b[39m\u001b[38;5;124m\"\u001b[39m, \u001b[38;5;124m\"\u001b[39m\u001b[38;5;124mpad\u001b[39m\u001b[38;5;124m\"\u001b[39m: \u001b[38;5;241m0.01\u001b[39m})\n",
      "\u001b[1;31mNameError\u001b[0m: name 'result' is not defined"
     ]
    },
    {
     "data": {
      "image/png": "[encoded data removed]",
      "text/plain": [
       "<Figure size 1700x1700 with 1 Axes>"
      ]
     },
     "metadata": {},
     "output_type": "display_data"
    }
   ],
   "source": [
    "import matplotlib.pyplot as plt\n",
    "import seaborn as sns\n",
    "\n",
    "fig, ax = plt.subplots(figsize=(17,17))\n",
    "sns.set(font_scale=1.3) \n",
    "sns.heatmap(result, annot=True, linewidth=.5,xticklabels=actions, yticklabels=actions,cmap=\"Blues\",cbar_kws={\"orientation\": \"vertical\", \"pad\": 0.01})"
   ]
  },
  {
   "cell_type": "code",
   "execution_count": 80,
   "id": "c834acc4",
   "metadata": {},
   "outputs": [
    {
     "data": {
      "text/plain": [
       "0.99"
      ]
     },
     "execution_count": 80,
     "metadata": {},
     "output_type": "execute_result"
    }
   ],
   "source": [
    "accuracy_score(ytrue, yhat)"
   ]
  },
  {
   "cell_type": "code",
   "execution_count": 31,
   "id": "52d58874",
   "metadata": {},
   "outputs": [],
   "source": [
    "model.save('action.h5')"
   ]
  },
  {
   "cell_type": "markdown",
   "id": "9f8c86b7",
   "metadata": {},
   "source": [
    "# Test In real Time"
   ]
  },
  {
   "cell_type": "code",
   "execution_count": 27,
   "id": "d4a66696",
   "metadata": {},
   "outputs": [
    {
     "name": "stdout",
     "output_type": "stream",
     "text": [
      "<class 'mediapipe.python.solution_base.SolutionOutputs'>\n",
      "<class 'mediapipe.python.solution_base.SolutionOutputs'>\n",
      "<class 'mediapipe.python.solution_base.SolutionOutputs'>\n",
      "<class 'mediapipe.python.solution_base.SolutionOutputs'>\n",
      "<class 'mediapipe.python.solution_base.SolutionOutputs'>\n",
      "<class 'mediapipe.python.solution_base.SolutionOutputs'>\n",
      "<class 'mediapipe.python.solution_base.SolutionOutputs'>\n",
      "<class 'mediapipe.python.solution_base.SolutionOutputs'>\n",
      "<class 'mediapipe.python.solution_base.SolutionOutputs'>\n",
      "<class 'mediapipe.python.solution_base.SolutionOutputs'>\n",
      "<class 'mediapipe.python.solution_base.SolutionOutputs'>\n",
      "<class 'mediapipe.python.solution_base.SolutionOutputs'>\n",
      "<class 'mediapipe.python.solution_base.SolutionOutputs'>\n",
      "<class 'mediapipe.python.solution_base.SolutionOutputs'>\n",
      "<class 'mediapipe.python.solution_base.SolutionOutputs'>\n",
      "<class 'mediapipe.python.solution_base.SolutionOutputs'>\n",
      "<class 'mediapipe.python.solution_base.SolutionOutputs'>\n",
      "<class 'mediapipe.python.solution_base.SolutionOutputs'>\n",
      "<class 'mediapipe.python.solution_base.SolutionOutputs'>\n",
      "<class 'mediapipe.python.solution_base.SolutionOutputs'>\n",
      "<class 'mediapipe.python.solution_base.SolutionOutputs'>\n",
      "<class 'mediapipe.python.solution_base.SolutionOutputs'>\n",
      "<class 'mediapipe.python.solution_base.SolutionOutputs'>\n",
      "<class 'mediapipe.python.solution_base.SolutionOutputs'>\n",
      "<class 'mediapipe.python.solution_base.SolutionOutputs'>\n",
      "<class 'mediapipe.python.solution_base.SolutionOutputs'>\n",
      "<class 'mediapipe.python.solution_base.SolutionOutputs'>\n",
      "<class 'mediapipe.python.solution_base.SolutionOutputs'>\n",
      "<class 'mediapipe.python.solution_base.SolutionOutputs'>\n",
      "<class 'mediapipe.python.solution_base.SolutionOutputs'>\n",
      "1/1 [==============================] - 0s 32ms/step\n"
     ]
    }
   ],
   "source": [
    "# 1. New detection variables\n",
    "sequence = []\n",
    "sentence = []\n",
    "threshold = 0.8\n",
    "\n",
    "cap = cv2.VideoCapture(0)\n",
    "# Set mediapipe model \n",
    "def display(image):\n",
    "    while(True):\n",
    "        \n",
    "        cv2.imshow('OpenCV Feed', image)\n",
    "        if cv2.waitKey(10) & 0xFF == ord('q'):\n",
    "            break\n",
    "\n",
    "with mp_holistic.Holistic(min_detection_confidence=0.5, min_tracking_confidence=0.5) as holistic:\n",
    "    #while cap.isOpened():\n",
    "    i=0;\n",
    "    while(True):\n",
    "        ret, frame = cap.read()\n",
    "\n",
    "        # Make detections\n",
    "        image, results = mediapipe_detection(frame, holistic)\n",
    "        print(results)\n",
    "        \n",
    "        # Draw landmarks\n",
    "        draw_styled_landmarks(image, results)\n",
    "        \n",
    "        # 2. Prediction logic\n",
    "        keypoints = extract_keypoints(results)\n",
    "#         sequence.insert(0,keypoints)\n",
    "#         sequence = sequence[:30]\n",
    "        sequence.append(keypoints)\n",
    "        sequence = sequence[-30:]\n",
    "        \n",
    "        if len(sequence) == 30:\n",
    "            res = model.predict(np.expand_dims(sequence, axis=0))[0]\n",
    "            cv2.putText(image, \"Detected Sign: \"+actions[np.argmax(res)], (320,80), \n",
    "                             cv2.FONT_HERSHEY_SIMPLEX, 1, (0,255, 0), 4, cv2.LINE_AA)\n",
    "            display(image)\n",
    "            break\n",
    "\n",
    "        cv2.imshow('OpenCV Feed', image)\n",
    "\n",
    "        # Break gracefully\n",
    "        if cv2.waitKey(10) & 0xFF == ord('q'):\n",
    "            break\n",
    "    cap.release()\n",
    "    cv2.destroyAllWindows()"
   ]
  },
  {
   "cell_type": "code",
   "execution_count": 96,
   "id": "3f592e2f",
   "metadata": {},
   "outputs": [],
   "source": [
    "cap.release()\n",
    "cv2.destroyAllWindows()"
   ]
  }
 ],
 "metadata": {
  "kernelspec": {
   "display_name": "Python 3 (ipykernel)",
   "language": "python",
   "name": "python3"
  },
  "language_info": {
   "codemirror_mode": {
    "name": "ipython",
    "version": 3
   },
   "file_extension": ".py",
   "mimetype": "text/x-python",
   "name": "python",
   "nbconvert_exporter": "python",
   "pygments_lexer": "ipython3",
   "version": "3.8.5"
  }
 },
 "nbformat": 4,
 "nbformat_minor": 5
}
