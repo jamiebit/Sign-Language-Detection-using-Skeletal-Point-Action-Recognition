{
 "cells": [
  {
   "cell_type": "code",
   "execution_count": null,
   "id": "3d978a50",
   "metadata": {},
   "outputs": [],
   "source": [
    "!pip install Jupyter-Beeper"
   ]
  },
  {
   "cell_type": "code",
   "execution_count": null,
   "id": "c8bb0c33",
   "metadata": {},
   "outputs": [],
   "source": [
    "import cv2\n",
    "import numpy as np\n",
    "import os\n",
    "import time\n",
    "import mediapipe as mp\n",
    "import shutil\n",
    "import jupyter_beeper"
   ]
  },
  {
   "cell_type": "code",
   "execution_count": null,
   "id": "39777af3",
   "metadata": {},
   "outputs": [],
   "source": [
    "mp_holistic = mp.solutions.holistic # Holistic model\n",
    "mp_drawing = mp.solutions.drawing_utils # Drawing utilities"
   ]
  },
  {
   "cell_type": "code",
   "execution_count": null,
   "id": "e55e769e",
   "metadata": {},
   "outputs": [],
   "source": [
    "def mediapipe_detection(image, model):\n",
    "    image = cv2.cvtColor(image, cv2.COLOR_BGR2RGB) # COLOR CONVERSION BGR 2 RGB\n",
    "    image.flags.writeable = False                  # Image is no longer writeable\n",
    "    results = model.process(image)                 # Make prediction\n",
    "    image.flags.writeable = True                   # Image is now writeable \n",
    "    image = cv2.cvtColor(image, cv2.COLOR_RGB2BGR) # COLOR COVERSION RGB 2 BGR\n",
    "    return image, results"
   ]
  },
  {
   "cell_type": "code",
   "execution_count": null,
   "id": "0dadc8d0",
   "metadata": {},
   "outputs": [],
   "source": [
    "def draw_styled_landmarks(image, results):\n",
    "    # Draw left hand connections\n",
    "    mp_drawing.draw_landmarks(image, results.left_hand_landmarks, mp_holistic.HAND_CONNECTIONS, \n",
    "                             mp_drawing.DrawingSpec(color=(121,22,76), thickness=2, circle_radius=4), \n",
    "                             mp_drawing.DrawingSpec(color=(121,44,250), thickness=2, circle_radius=2)\n",
    "                             ) \n",
    "    \n",
    "    # Draw right hand connections  \n",
    "    mp_drawing.draw_landmarks(image, results.right_hand_landmarks, mp_holistic.HAND_CONNECTIONS, \n",
    "                             mp_drawing.DrawingSpec(color=(245,117,66), thickness=2, circle_radius=4), \n",
    "                             mp_drawing.DrawingSpec(color=(245,66,230), thickness=2, circle_radius=2)\n",
    "                             ) "
   ]
  },
  {
   "cell_type": "code",
   "execution_count": null,
   "id": "d7eb55bb",
   "metadata": {},
   "outputs": [],
   "source": [
    "def extract_keypoints(results):\n",
    "    lh = np.array([[res.x, res.y, res.z] for res in results.left_hand_landmarks.landmark]).flatten() if results.left_hand_landmarks else np.zeros(21*3)\n",
    "    rh = np.array([[res.x, res.y, res.z] for res in results.right_hand_landmarks.landmark]).flatten() if results.right_hand_landmarks else np.zeros(21*3)\n",
    "    return np.concatenate([lh, rh])"
   ]
  },
  {
   "cell_type": "markdown",
   "id": "56f0d96d",
   "metadata": {},
   "source": [
    "# Setting Up Folders for Data Collection"
   ]
  },
  {
   "cell_type": "code",
   "execution_count": null,
   "id": "e8a412c7",
   "metadata": {},
   "outputs": [],
   "source": [
    "# Path for exported data, numpy arrays\n",
    "DATA_PATH = 'D:\\\\Final_Project\\\\data'\n",
    "frame_path= 'D:\\\\Final_Project\\\\frames'\n",
    "detection_path= 'D:\\\\Final_Project\\\\detected_frames'\n",
    "\n",
    "# Actions that we try to detect\n",
    "actions = np.array(['A', 'B', 'C','D', 'E', 'F','G', 'H', 'I','J', 'K', 'L','M', 'N', 'O','P', 'Q', 'R','S', 'T', 'U','V', 'W','X', 'Y', 'Z'])\n",
    "\n",
    "# Thirty videos worth of data\n",
    "no_sequences = 30\n",
    "\n",
    "# Videos are going to be 30 frames in length\n",
    "sequence_length = 30\n",
    "\n",
    "# Folder start\n",
    "start_folder = 30"
   ]
  },
  {
   "cell_type": "code",
   "execution_count": null,
   "id": "b13a37a6",
   "metadata": {},
   "outputs": [],
   "source": [
    "for action in actions: \n",
    "    for sequence in range(start_folder,start_folder+no_sequences):\n",
    "        try: \n",
    "            os.makedirs(os.path.join(DATA_PATH, action, str(sequence)))\n",
    "            os.makedirs(os.path.join(frame_path, action, str(sequence)))\n",
    "            os.makedirs(os.path.join(detection_path, action, str(sequence)))\n",
    "        except:\n",
    "            pass"
   ]
  },
  {
   "cell_type": "code",
   "execution_count": null,
   "id": "90ef6b29",
   "metadata": {
    "scrolled": true
   },
   "outputs": [],
   "source": [
    "cap = cv2.VideoCapture(1)\n",
    "# Set mediapipe model \n",
    "with mp_holistic.Holistic(min_detection_confidence=0.5, min_tracking_confidence=0.5) as holistic:\n",
    "    \n",
    "    # NEW LOOP\n",
    "    action=actions[12] #m\n",
    "    # Loop through actions\n",
    "    sequence=start_folder\n",
    "    while(sequence < start_folder+no_sequences):\n",
    "        # Loop through video length aka sequence length\n",
    "        for frame_num in range(sequence_length):\n",
    "            \n",
    "            fr_path = os.path.join(frame_path, action, str(sequence), str(frame_num)+\".jpg\")\n",
    "            dfr_path = os.path.join(detection_path, action, str(sequence), str(frame_num)+\".jpg\")\n",
    "            \n",
    "                # Read feed\n",
    "            ret, frame = cap.read()\n",
    "            \n",
    "\n",
    "                # Make detections\n",
    "            image, results = mediapipe_detection(frame, holistic)\n",
    "\n",
    "                # Draw landmarks\n",
    "            draw_styled_landmarks(image, results)\n",
    "                \n",
    "                # NEW Apply wait logic\n",
    "            if frame_num == 0: \n",
    "                cv2.putText(image, 'STARTING COLLECTION', (120,200), \n",
    "                           cv2.FONT_HERSHEY_SIMPLEX, 1, (0,255, 0), 4, cv2.LINE_AA)\n",
    "                cv2.putText(image, 'Collecting frames for {} Video Number {}'.format(action, sequence), (15,12), \n",
    "                           cv2.FONT_HERSHEY_SIMPLEX, 0.5, (0, 0, 255), 1, cv2.LINE_AA)\n",
    "                    # Show to screen\n",
    "                cv2.imshow('OpenCV Feed', image)\n",
    "            else: \n",
    "                cv2.putText(image, 'Collecting frames for {} Video Number {}'.format(action, sequence), (15,12), \n",
    "                           cv2.FONT_HERSHEY_SIMPLEX, 0.5, (0, 0, 255), 1, cv2.LINE_AA)\n",
    "                    # Show to screen\n",
    "                cv2.imshow('OpenCV Feed', image)\n",
    "                \n",
    "               \n",
    "            cv2.imwrite(dfr_path, image)\n",
    "            cv2.imwrite(fr_path, frame)\n",
    "                # NEW Export keypoints\n",
    "            keypoints = extract_keypoints(results)\n",
    "            npy_path = os.path.join(DATA_PATH, action, str(sequence), str(frame_num))\n",
    "            np.save(npy_path, keypoints)\n",
    "\n",
    "                # Break gracefully\n",
    "            if cv2.waitKey(10) & 0xFF == ord('q'):\n",
    "                #cv2.putText(image, 'CURRENT SEQUENCE DISCARD', (120,200), \n",
    "                 #            cv2.FONT_HERSHEY_SIMPLEX, 1, (0,255, 0), 4, cv2.LINE_AA)\n",
    "                print('quit')\n",
    "                cv2.waitKey(2000)\n",
    "                break\n",
    "        \n",
    "        cv2.putText(image, 'PRESS Y IF REQUIRED NOW', (120,200), \n",
    "                             cv2.FONT_HERSHEY_SIMPLEX, 1, (0,255, 0), 4, cv2.LINE_AA)\n",
    "        cv2.imshow('OpenCV Feed', image)\n",
    "        if cv2.waitKey(30000) & 0xFF == ord('y'):\n",
    "            sequence=sequence+1\n",
    "            cv2.waitKey(3000)\n",
    "            b = jupyter_beeper.Beeper()\n",
    "            # Default config is frequency=440 Hz, secs=0.7 seconds, and\n",
    "            # blocking=False (b.beep() will return when the sound begins)\n",
    "            b.beep(frequency=530, secs=0.2, blocking=True)\n",
    "            cv2.waitKey(1000)\n",
    "            \n",
    "        else:\n",
    "            cv2.putText(image, 'CURRENT SEQUENCE DISCARD', (120,200), \n",
    "                           cv2.FONT_HERSHEY_SIMPLEX, 1, (0,255, 0), 4, cv2.LINE_AA)\n",
    "            shutil.rmtree(os.path.join(frame_path,action,str(sequence)))\n",
    "            shutil.rmtree(os.path.join(detection_path,action,str(sequence)))\n",
    "            shutil.rmtree(os.path.join(DATA_PATH,action,str(sequence)))\n",
    "            os.makedirs(os.path.join(DATA_PATH, action, str(sequence)))\n",
    "            os.makedirs(os.path.join(frame_path, action, str(sequence)))\n",
    "            os.makedirs(os.path.join(detection_path, action, str(sequence)))\n",
    "            cv2.waitKey(5000)\n",
    "                \n",
    "    cap.release()\n",
    "    cv2.destroyAllWindows()"
   ]
  }
 ],
 "metadata": {
  "kernelspec": {
   "display_name": "Python 3 (ipykernel)",
   "language": "python",
   "name": "python3"
  },
  "language_info": {
   "codemirror_mode": {
    "name": "ipython",
    "version": 3
   },
   "file_extension": ".py",
   "mimetype": "text/x-python",
   "name": "python",
   "nbconvert_exporter": "python",
   "pygments_lexer": "ipython3",
   "version": "3.10.5"
  }
 },
 "nbformat": 4,
 "nbformat_minor": 5
}
